{
 "cells": [
  {
   "cell_type": "code",
   "execution_count": 1,
   "metadata": {},
   "outputs": [],
   "source": [
    "import psi4\n",
    "import forte\n",
    "import forte.utils\n",
    "import numpy as np"
   ]
  },
  {
   "cell_type": "code",
   "execution_count": 6,
   "metadata": {},
   "outputs": [
    {
     "name": "stdout",
     "output_type": "stream",
     "text": [
      "\n",
      "Error: option JOB_TYPE is not contained in the list of available options.\n",
      "\n",
      "Did you mean? JOBTYPE SOS_TYPE\n",
      "\n",
      "\n",
      "Error: option JOB_TYPE is not contained in the list of available options.\n",
      "\n",
      "Did you mean? JOBTYPE SOS_TYPE\n",
      "\n"
     ]
    }
   ],
   "source": [
    "psi4.core.clean()\n",
    "psi4.core.clean_options()\n",
    "psi4.core.set_output_file('hf-1.5-mrpt3-relaxtwice.dat', False)\n",
    "\n",
    "mol = psi4.geometry(\"\"\"\n",
    "H 0 0 0\n",
    "F 0 0 1.5\n",
    "symmetry c1\n",
    "noreorient\n",
    "\"\"\")\n",
    "\n",
    "psi4.set_options({\n",
    "    'basis': 'cc-pvdz',\n",
    "    'restricted_docc':[2],\n",
    "    'active':[4],\n",
    "    'reference': 'rhf',\n",
    "    'scf_type': 'direct'\n",
    "})\n",
    "\n",
    "forte_options = {\n",
    "    'active_space_solver': 'fci',\n",
    "    'correlation_solver': 'dsrg-mrpt3',\n",
    "    'frozen_docc': [0],\n",
    "    'restricted_docc': [2],\n",
    "    'active': [4],\n",
    "    'root_sym': 0,\n",
    "    #'nroot': 4,\n",
    "    'dsrg_s': 1.0,\n",
    "    'relax_ref': 'twice',\n",
    "    'maxiter': 100,\n",
    "    'e_convergence': 1e-8,\n",
    "    'semi_canonical': True\n",
    "    }\n",
    "\n",
    "Ecasci, wfn = psi4.energy('detci', return_wfn=True)\n",
    "Edsrg = psi4.energy('forte', ref_wfn=wfn, forte_options=forte_options, return_wfn=True)"
   ]
  },
  {
   "cell_type": "code",
   "execution_count": 4,
   "metadata": {},
   "outputs": [
    {
     "ename": "RuntimeError",
     "evalue": "\n  ForteOptions::set_from_dict: option active_space_solver is not defined\n",
     "output_type": "error",
     "traceback": [
      "\u001b[0;31m---------------------------------------------------------------------------\u001b[0m",
      "\u001b[0;31mRuntimeError\u001b[0m                              Traceback (most recent call last)",
      "Cell \u001b[0;32mIn[4], line 1\u001b[0m\n\u001b[0;32m----> 1\u001b[0m forte\u001b[39m.\u001b[39;49mForteOptions()\u001b[39m.\u001b[39;49mset_from_dict(forte_options)\n",
      "\u001b[0;31mRuntimeError\u001b[0m: \n  ForteOptions::set_from_dict: option active_space_solver is not defined\n"
     ]
    }
   ],
   "source": [
    "forte.ForteOptions().set_from_dict(forte_options)"
   ]
  },
  {
   "cell_type": "code",
   "execution_count": 14,
   "metadata": {},
   "outputs": [
    {
     "ename": "AttributeError",
     "evalue": "'dict' object has no attribute 'get_str'",
     "output_type": "error",
     "traceback": [
      "\u001b[0;31m---------------------------------------------------------------------------\u001b[0m",
      "\u001b[0;31mAttributeError\u001b[0m                            Traceback (most recent call last)",
      "Cell \u001b[0;32mIn[14], line 1\u001b[0m\n\u001b[0;32m----> 1\u001b[0m ints_rdms \u001b[39m=\u001b[39m forte\u001b[39m.\u001b[39;49mutils\u001b[39m.\u001b[39;49mprepare_ints_rdms(wfn, {\u001b[39m'\u001b[39;49m\u001b[39mfrozen_docc\u001b[39;49m\u001b[39m'\u001b[39;49m: [\u001b[39m0\u001b[39;49m], \u001b[39m'\u001b[39;49m\u001b[39mrestricted_docc\u001b[39;49m\u001b[39m'\u001b[39;49m: [\u001b[39m2\u001b[39;49m], \u001b[39m'\u001b[39;49m\u001b[39mactive\u001b[39;49m\u001b[39m'\u001b[39;49m: [\u001b[39m4\u001b[39;49m]})\n\u001b[1;32m      2\u001b[0m Eref \u001b[39m=\u001b[39m ints_rdms[\u001b[39m'\u001b[39m\u001b[39mreference_energy\u001b[39m\u001b[39m'\u001b[39m]\n\u001b[1;32m      3\u001b[0m mo_space_info \u001b[39m=\u001b[39m ints_rdms[\u001b[39m'\u001b[39m\u001b[39mmo_space_info\u001b[39m\u001b[39m'\u001b[39m]\n",
      "File \u001b[0;32m~/local/forte/forte/utils/helpers.py:276\u001b[0m, in \u001b[0;36mprepare_ints_rdms\u001b[0;34m(wfn, mo_spaces, rdm_level, rdm_type)\u001b[0m\n\u001b[1;32m    266\u001b[0m \u001b[39mdef\u001b[39;00m \u001b[39mprepare_ints_rdms\u001b[39m(wfn, mo_spaces, rdm_level\u001b[39m=\u001b[39m\u001b[39m3\u001b[39m, rdm_type\u001b[39m=\u001b[39mforte\u001b[39m.\u001b[39mRDMsType\u001b[39m.\u001b[39mspin_dependent):\n\u001b[1;32m    267\u001b[0m \u001b[39m    \u001b[39m\u001b[39m\"\"\"\u001b[39;00m\n\u001b[1;32m    268\u001b[0m \u001b[39m    Preparation step for DSRG: compute a CAS and its RDMs.\u001b[39;00m\n\u001b[1;32m    269\u001b[0m \u001b[39m    :param wfn: reference wave function from psi4\u001b[39;00m\n\u001b[0;32m   (...)\u001b[0m\n\u001b[1;32m    273\u001b[0m \u001b[39m    :return: a tuple of (reference energy, MOSpaceInfo, ForteIntegrals, RDMs)\u001b[39;00m\n\u001b[1;32m    274\u001b[0m \u001b[39m    \"\"\"\u001b[39;00m\n\u001b[0;32m--> 276\u001b[0m     forte_objects \u001b[39m=\u001b[39m prepare_forte_objects(wfn, mo_spaces)\n\u001b[1;32m    278\u001b[0m     ints \u001b[39m=\u001b[39m forte_objects[\u001b[39m'\u001b[39m\u001b[39mints\u001b[39m\u001b[39m'\u001b[39m]\n\u001b[1;32m    279\u001b[0m     as_ints \u001b[39m=\u001b[39m forte_objects[\u001b[39m'\u001b[39m\u001b[39mas_ints\u001b[39m\u001b[39m'\u001b[39m]\n",
      "File \u001b[0;32m~/local/forte/forte/utils/helpers.py:213\u001b[0m, in \u001b[0;36mprepare_forte_objects\u001b[0;34m(wfn, mo_spaces, active_space, core_spaces, localize, localize_spaces)\u001b[0m\n\u001b[1;32m    210\u001b[0m \u001b[39m# fill in the options object\u001b[39;00m\n\u001b[1;32m    211\u001b[0m options \u001b[39m=\u001b[39m forte\u001b[39m.\u001b[39mforte_options\n\u001b[0;32m--> 213\u001b[0m \u001b[39mif\u001b[39;00m (\u001b[39m'\u001b[39m\u001b[39mDF\u001b[39m\u001b[39m'\u001b[39m \u001b[39min\u001b[39;00m options\u001b[39m.\u001b[39;49mget_str(\u001b[39m'\u001b[39m\u001b[39mINT_TYPE\u001b[39m\u001b[39m'\u001b[39m)):\n\u001b[1;32m    214\u001b[0m     aux_basis \u001b[39m=\u001b[39m psi4\u001b[39m.\u001b[39mcore\u001b[39m.\u001b[39mBasisSet\u001b[39m.\u001b[39mbuild(\n\u001b[1;32m    215\u001b[0m         wfn\u001b[39m.\u001b[39mmolecule(), \u001b[39m'\u001b[39m\u001b[39mDF_BASIS_MP2\u001b[39m\u001b[39m'\u001b[39m, psi4\u001b[39m.\u001b[39mcore\u001b[39m.\u001b[39mget_global_option(\u001b[39m'\u001b[39m\u001b[39mDF_BASIS_MP2\u001b[39m\u001b[39m'\u001b[39m), \u001b[39m'\u001b[39m\u001b[39mRIFIT\u001b[39m\u001b[39m'\u001b[39m,\n\u001b[1;32m    216\u001b[0m         psi4\u001b[39m.\u001b[39mcore\u001b[39m.\u001b[39mget_global_option(\u001b[39m'\u001b[39m\u001b[39mBASIS\u001b[39m\u001b[39m'\u001b[39m), puream\u001b[39m=\u001b[39mwfn\u001b[39m.\u001b[39mbasisset()\u001b[39m.\u001b[39mhas_puream()\n\u001b[1;32m    217\u001b[0m     )\n\u001b[1;32m    218\u001b[0m     wfn\u001b[39m.\u001b[39mset_basisset(\u001b[39m'\u001b[39m\u001b[39mDF_BASIS_MP2\u001b[39m\u001b[39m'\u001b[39m, aux_basis)\n",
      "\u001b[0;31mAttributeError\u001b[0m: 'dict' object has no attribute 'get_str'"
     ]
    }
   ],
   "source": [
    "ints_rdms = forte.utils.prepare_ints_rdms(wfn, {'frozen_docc': [0], 'restricted_docc': [2], 'active': [4]})\n",
    "Eref = ints_rdms['reference_energy']\n",
    "mo_space_info = ints_rdms['mo_space_info']\n",
    "rdms = ints_rdms['rdms']\n",
    "ints = ints_rdms['ints']\n",
    "gamma1, lambda2, lambda3 = forte.spinorbital_cumulants(rdms)\n",
    "eta1 = np.identity(gamma1.shape[0]) - gamma1"
   ]
  },
  {
   "cell_type": "code",
   "execution_count": 5,
   "metadata": {},
   "outputs": [],
   "source": [
    "core = mo_space_info.corr_absolute_mo('RESTRICTED_DOCC')\n",
    "actv = mo_space_info.corr_absolute_mo('ACTIVE')\n",
    "virt = mo_space_info.corr_absolute_mo('RESTRICTED_UOCC')\n",
    "hole = mo_space_info.corr_absolute_mo('GENERALIZED HOLE')\n",
    "allm = mo_space_info.corr_absolute_mo('CORRELATED')"
   ]
  },
  {
   "cell_type": "code",
   "execution_count": 7,
   "metadata": {},
   "outputs": [],
   "source": [
    "fock = forte.spinorbital_oei(ints,allm,allm)\n",
    "_v = forte.spinorbital_tei(ints,allm,core,allm,core)\n",
    "fock += np.einsum('piqi->pq', _v)\n",
    "_v = forte.spinorbital_tei(ints,allm,actv,allm,actv)\n",
    "fock += np.einsum('piqj,ij->pq', _v, gamma1) "
   ]
  },
  {
   "cell_type": "code",
   "execution_count": 8,
   "metadata": {},
   "outputs": [],
   "source": [
    "eri = forte.spinorbital_tei(ints, allm, allm, allm, allm)"
   ]
  },
  {
   "cell_type": "code",
   "execution_count": 9,
   "metadata": {},
   "outputs": [],
   "source": [
    "np.save('fock.npy', fock)\n",
    "np.save('eri.npy', eri)"
   ]
  },
  {
   "cell_type": "code",
   "execution_count": 10,
   "metadata": {},
   "outputs": [
    {
     "data": {
      "text/plain": [
       "(38, 38)"
      ]
     },
     "execution_count": 10,
     "metadata": {},
     "output_type": "execute_result"
    }
   ],
   "source": [
    "fock.shape"
   ]
  }
 ],
 "metadata": {
  "kernelspec": {
   "display_name": "forte",
   "language": "python",
   "name": "python3"
  },
  "language_info": {
   "codemirror_mode": {
    "name": "ipython",
    "version": 3
   },
   "file_extension": ".py",
   "mimetype": "text/x-python",
   "name": "python",
   "nbconvert_exporter": "python",
   "pygments_lexer": "ipython3",
   "version": "3.9.17"
  },
  "orig_nbformat": 4
 },
 "nbformat": 4,
 "nbformat_minor": 2
}
