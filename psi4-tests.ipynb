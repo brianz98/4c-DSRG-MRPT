{
 "cells": [
  {
   "cell_type": "code",
   "execution_count": 1,
   "metadata": {},
   "outputs": [],
   "source": [
    "import psi4\n",
    "import forte\n",
    "import numpy as np"
   ]
  },
  {
   "cell_type": "code",
   "execution_count": 4,
   "metadata": {},
   "outputs": [
    {
     "name": "stdout",
     "output_type": "stream",
     "text": [
      "\n",
      "Error: option JOB_TYPE is not contained in the list of available options.\n",
      "\n",
      "Did you mean? JOBTYPE SOS_TYPE\n",
      "\n",
      "\n",
      "Error: option JOB_TYPE is not contained in the list of available options.\n",
      "\n",
      "Did you mean? JOBTYPE SOS_TYPE\n",
      "\n"
     ]
    }
   ],
   "source": [
    "psi4.core.clean()\n",
    "psi4.core.clean_options()\n",
    "psi4.core.set_output_file('hf-1.5-mrpt3.dat', False)\n",
    "\n",
    "mol = psi4.geometry(\"\"\"\n",
    "H 0 0 0\n",
    "F 0 0 1.5\n",
    "symmetry c1\n",
    "noreorient\n",
    "\"\"\")\n",
    "\n",
    "psi4.set_options({\n",
    "    'basis': 'cc-pvdz',\n",
    "    'restricted_docc':[2],\n",
    "    'active':[4],\n",
    "    'reference': 'rhf',\n",
    "    'scf_type': 'direct'\n",
    "})\n",
    "\n",
    "forte_options = {\n",
    "    'active_space_solver': 'fci',\n",
    "    'correlation_solver': 'dsrg-mrpt3',\n",
    "    'frozen_docc': [0],\n",
    "    'restricted_docc': [2],\n",
    "    'active': [4],\n",
    "    'root_sym': 0,\n",
    "    #'nroot': 4,\n",
    "    'dsrg_s': 2.0,\n",
    "    'relax_ref': 'None',\n",
    "    'maxiter': 100,\n",
    "    'e_convergence': 1e-8,\n",
    "    'semi_canonical': True\n",
    "    }\n",
    "\n",
    "Ecasci, wfn = psi4.energy('detci', return_wfn=True)\n",
    "Edsrg = psi4.energy('forte', ref_wfn=wfn, forte_options=forte_options, return_wfn=True)"
   ]
  },
  {
   "cell_type": "code",
   "execution_count": null,
   "metadata": {},
   "outputs": [],
   "source": []
  }
 ],
 "metadata": {
  "kernelspec": {
   "display_name": "forte",
   "language": "python",
   "name": "python3"
  },
  "language_info": {
   "codemirror_mode": {
    "name": "ipython",
    "version": 3
   },
   "file_extension": ".py",
   "mimetype": "text/x-python",
   "name": "python",
   "nbconvert_exporter": "python",
   "pygments_lexer": "ipython3",
   "version": "3.9.17"
  },
  "orig_nbformat": 4
 },
 "nbformat": 4,
 "nbformat_minor": 2
}
