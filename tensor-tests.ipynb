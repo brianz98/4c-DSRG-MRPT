{
 "cells": [
  {
   "cell_type": "code",
   "execution_count": 1,
   "metadata": {},
   "outputs": [],
   "source": [
    "import ambit\n",
    "import numpy as np\n",
    "import itertools as it\n",
    "ambit.initialize()"
   ]
  },
  {
   "cell_type": "code",
   "execution_count": 2,
   "metadata": {},
   "outputs": [],
   "source": [
    "# Tuneage, will move later\n",
    "tensor_type = ambit.TensorType.CoreTensor\n",
    "max_test_rank = 4"
   ]
  },
  {
   "cell_type": "code",
   "execution_count": 3,
   "metadata": {},
   "outputs": [],
   "source": [
    "def build(name, dims, ttype=tensor_type, fill=None):\n",
    "    # Builds arbitrary Tensors and numpy arrys\n",
    "    # Accepts a list of integers or a string for dimensions\n",
    "\n",
    "    if ttype != ambit.TensorType.CoreTensor:\n",
    "        raise ValueError(\"Only CoreTensor is currently supported\")\n",
    "\n",
    "    T = ambit.Tensor.build(ttype, name, dims)\n",
    "\n",
    "    # Fill both N and T\n",
    "    N = np.asarray(T)\n",
    "\n",
    "    N.flat[:] = fill\n",
    "\n",
    "    # Copy numpy array so we no longer share memory\n",
    "    N = N.copy()\n",
    "\n",
    "    return [T, N]"
   ]
  },
  {
   "cell_type": "code",
   "execution_count": 43,
   "metadata": {},
   "outputs": [],
   "source": [
    "dim = 10000\n",
    "ambit_A, numpy_A = build(\"A\", [dim,dim], fill=np.random.rand(dim,dim))\n",
    "ambit_B, numpy_B = build(\"B\", [dim,dim], fill=np.random.rand(dim,dim))\n",
    "ambit_C, numpy_C = build(\"C\", [dim,dim], fill=np.zeros((dim,dim)))"
   ]
  },
  {
   "cell_type": "code",
   "execution_count": 39,
   "metadata": {},
   "outputs": [
    {
     "name": "stdout",
     "output_type": "stream",
     "text": [
      "CPU times: user 1min 46s, sys: 10.8 s, total: 1min 57s\n",
      "Wall time: 7.36 s\n"
     ]
    }
   ],
   "source": [
    "%time ambit_C[\"ij\"] = ambit_A[\"ik\"] * ambit_B[\"kj\"]"
   ]
  },
  {
   "cell_type": "code",
   "execution_count": 40,
   "metadata": {},
   "outputs": [
    {
     "name": "stdout",
     "output_type": "stream",
     "text": [
      "CPU times: user 1min 14s, sys: 1.46 s, total: 1min 15s\n",
      "Wall time: 9.47 s\n"
     ]
    }
   ],
   "source": [
    "%time numpy_C = numpy_A @ numpy_B"
   ]
  },
  {
   "cell_type": "code",
   "execution_count": 41,
   "metadata": {},
   "outputs": [
    {
     "data": {
      "text/plain": [
       "True"
      ]
     },
     "execution_count": 41,
     "metadata": {},
     "output_type": "execute_result"
    }
   ],
   "source": [
    "np.allclose(ambit_C, numpy_C)"
   ]
  },
  {
   "cell_type": "code",
   "execution_count": 11,
   "metadata": {},
   "outputs": [],
   "source": [
    "dim = 100\n",
    "ambit_A, numpy_A = build(\"A\", [dim,dim,dim,dim], fill=np.random.rand(dim,dim,dim,dim))\n",
    "ambit_B, numpy_B = build(\"B\", [dim,dim,dim,dim], fill=np.random.rand(dim,dim,dim,dim))\n",
    "ambit_C, numpy_C = build(\"C\", [dim,dim,dim,dim], fill=np.zeros((dim,dim,dim,dim)))"
   ]
  },
  {
   "cell_type": "code",
   "execution_count": 12,
   "metadata": {},
   "outputs": [
    {
     "name": "stdout",
     "output_type": "stream",
     "text": [
      "CPU times: user 1min 44s, sys: 8.05 s, total: 1min 52s\n",
      "Wall time: 7.04 s\n"
     ]
    }
   ],
   "source": [
    "%time ambit_C[\"ijmn\"] = ambit_A[\"ijkl\"] * ambit_B[\"klmn\"]"
   ]
  },
  {
   "cell_type": "code",
   "execution_count": 13,
   "metadata": {},
   "outputs": [
    {
     "name": "stdout",
     "output_type": "stream",
     "text": [
      "CPU times: user 1min 13s, sys: 244 ms, total: 1min 13s\n",
      "Wall time: 9.38 s\n"
     ]
    }
   ],
   "source": [
    "%time numpy_C = np.einsum(\"ijkl,klmn->ijmn\", numpy_A, numpy_B, optimize=True)"
   ]
  },
  {
   "cell_type": "code",
   "execution_count": 14,
   "metadata": {},
   "outputs": [
    {
     "data": {
      "text/plain": [
       "True"
      ]
     },
     "execution_count": 14,
     "metadata": {},
     "output_type": "execute_result"
    }
   ],
   "source": [
    "np.allclose(ambit_C, numpy_C)"
   ]
  },
  {
   "cell_type": "code",
   "execution_count": null,
   "metadata": {},
   "outputs": [],
   "source": []
  }
 ],
 "metadata": {
  "kernelspec": {
   "display_name": "forte",
   "language": "python",
   "name": "python3"
  },
  "language_info": {
   "codemirror_mode": {
    "name": "ipython",
    "version": 3
   },
   "file_extension": ".py",
   "mimetype": "text/x-python",
   "name": "python",
   "nbconvert_exporter": "python",
   "pygments_lexer": "ipython3",
   "version": "3.9.17"
  },
  "orig_nbformat": 4
 },
 "nbformat": 4,
 "nbformat_minor": 2
}
