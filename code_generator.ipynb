{
 "cells": [
  {
   "cell_type": "code",
   "execution_count": 1,
   "metadata": {},
   "outputs": [],
   "source": [
    "import wicked as w\n",
    "import numpy as np\n",
    "import re\n",
    "from fractions import Fraction\n",
    "\n",
    "w.reset_space()\n",
    "w.add_space(\"c\", \"fermion\", \"occupied\", list('ijklmn'))\n",
    "w.add_space(\"a\", \"fermion\", \"general\", list('uvwxyzrst'))\n",
    "w.add_space(\"v\", \"fermion\", \"unoccupied\", list('abcdef'))\n",
    "wt = w.WickTheorem()"
   ]
  },
  {
   "cell_type": "code",
   "execution_count": 49,
   "metadata": {},
   "outputs": [],
   "source": [
    "def split_single_tensor(tensor):\n",
    "    \"\"\"\n",
    "    Split a single expression or string of the form\n",
    "    >>> H^{a0,a3}_{a1,a2}\n",
    "    into a tuple containing its label, the upper, and lower indices, i.e.,\n",
    "    >>> ('H', [a0, a3], [a1, a2])\n",
    "    If the label is 'F' or 'V', the upper and lower indices are swapped \n",
    "    (see 4c-dsrg-mrpt2.ipynb::dsrg_mrpt2_update to see why)\n",
    "    \"\"\"\n",
    "    tensor = str(tensor)\n",
    "    label, indices = str(tensor).split('^{')\n",
    "    upper = indices.split('}_')[0].split(',')\n",
    "    lower = indices.split('_{')[1].split('}')[0].split(',')\n",
    "    if label in ['F', 'V']: \n",
    "        upper, lower = lower, upper\n",
    "    return label, upper, lower\n",
    "\n",
    "def get_unique_tensor_indices(tensor, unused_indices, index_dict):\n",
    "    \"\"\"\n",
    "    >>> ('V', [a0, c0], [a1, a2]) -> 'uiwx'\n",
    "    Get the indices of a tensor for use in an einsum contraction.\n",
    "    For example, given the tensor from split_single_tensor, \n",
    "    the list of available indices and indices that have already been assigned, \n",
    "    we can generate the index string.\n",
    "    \"\"\"\n",
    "    label, upper, lower = tensor\n",
    "    indstr = ''\n",
    "    for i in upper+lower:\n",
    "        if index_dict.get(i):\n",
    "            indstr += index_dict[i]\n",
    "        else:\n",
    "            index = unused_indices[i[0]].pop(0)\n",
    "            index_dict[i] = index\n",
    "            indstr += index\n",
    "    \n",
    "    return indstr\n",
    "\n",
    "def get_tensor_slice(tensor, fmt):\n",
    "    \"\"\"\n",
    "    >>> ('V', [a0, c0], [a1, a2]) -> \"V['acaa']\" (fmt = 'dict')\n",
    "    >>> ('V', [a0, c0], [a1, a2]) -> \"V[a,c,a,a]\" (fmt = 'slice')\n",
    "    \"\"\"\n",
    "    if tensor[0] in ['gamma1', 'eta1', 'lambda2', 'lambda3']:\n",
    "        return tensor[0]\n",
    "    else:\n",
    "        if (fmt == 'dict'):\n",
    "            return tensor[0] + \"['\" + ''.join([i[0] for i in tensor[1]]) + ''.join([i[0] for i in tensor[2]]) + \"']\"\n",
    "        elif (fmt == 'slice'):\n",
    "            if ('T' in tensor[0]): # T tensors are always particle-hole sized.\n",
    "                return tensor[0] + '[' + ','.join(['h'+i[0] for i in tensor[1]]) + ',' + ','.join(['p'+i[0] for i in tensor[2]]) + ']'\n",
    "            else:\n",
    "                return tensor[0] + '[' + ','.join([i[0] for i in tensor[1]]) + ',' + ','.join([i[0] for i in tensor[2]]) + ']'\n",
    "\n",
    "def get_lhs_tensor_name(tensor):\n",
    "    \"\"\"\n",
    "    >>> ('V', [a0, c0], [a1, a2]) -> \"Vacaa\"\n",
    "    \"\"\"\n",
    "    return tensor[0] + '_' + ''.join([i[0] for i in tensor[1]]) + ''.join([i[0] for i in tensor[2]])\n",
    "\n",
    "def get_factor(expression):\n",
    "    \"\"\"\n",
    "    Returns the prefactor of a right hand side expression, taking care of edge cases where an empty space (for +1.0) or a negative sign (for -1.0) are present.\n",
    "    \"\"\"\n",
    "    factor = str(expression).split('+=')[-1].split(' ')[1]\n",
    "    try:\n",
    "        return float(Fraction(factor))\n",
    "    except ValueError:\n",
    "        if factor == '-':\n",
    "            return -1.0\n",
    "        else:\n",
    "            return 1.0\n",
    "\n",
    "def compile_einsum(expression, fmt='dict', tensor_name=None, antisym_in=''):\n",
    "    \"\"\"\n",
    "    Compile an expression into a valid einsum expression.\n",
    "    \"\"\"\n",
    "    unused_indices = {'a':list('uvwxyzrst'), 'c':list('ijklmn'), 'v':list('abcdef')}\n",
    "    index_dict = {}\n",
    "\n",
    "    antisym = ''\n",
    "\n",
    "    lhs = expression.lhs()\n",
    "    rhs = expression.rhs()\n",
    "\n",
    "    factor = get_factor(expression)\n",
    "    if (antisym_in == 'l' or antisym_in == 'r'):\n",
    "        factor = -factor\n",
    "\n",
    "    exstr = ''\n",
    "    tenstr = ''\n",
    "\n",
    "    for i in str(rhs).split(' '):\n",
    "        _ = split_single_tensor(i)\n",
    "        tenstr += get_tensor_slice(_, fmt) + ', '\n",
    "        exstr += get_unique_tensor_indices(_, unused_indices, index_dict)\n",
    "        exstr += ','\n",
    "\n",
    "    exstr = exstr[:-1] + '->'\n",
    "    tenstr += \"optimize='optimal')\"\n",
    "\n",
    "    _ = split_single_tensor(lhs)\n",
    "    if (_[1] != ['']):\n",
    "        left = get_lhs_tensor_name(_)\n",
    "        res_indx = get_unique_tensor_indices(_, unused_indices, index_dict)\n",
    "        if (antisym_in == 'l'):\n",
    "            res_indx = res_indx[1] + res_indx[0] + res_indx[2:]\n",
    "        elif (antisym_in == 'r'):\n",
    "            res_indx = res_indx[:2] + res_indx[3] + res_indx[2]\n",
    "        elif (antisym_in == 'lr'):\n",
    "            res_indx = res_indx[1] + res_indx[0] + res_indx[3] + res_indx[2]\n",
    "        exstr += res_indx\n",
    "        if (len(res_indx)==4 and antisym_in == ''): # the latter means this is the first pass\n",
    "            block_indx = left.split('_')[1]\n",
    "            if (block_indx[0] == block_indx[1]):\n",
    "                antisym = 'l'\n",
    "                if (block_indx[2] == block_indx[3]):\n",
    "                    antisym += 'r'\n",
    "            elif (block_indx[2] == block_indx[3]):\n",
    "                antisym = 'r'\n",
    "    else:\n",
    "        left = _[0] # If it's scalar, just return the label.\n",
    "\n",
    "    if tensor_name is not None:\n",
    "        left = tensor_name\n",
    "\n",
    "    einsumstr = left \\\n",
    "        + ' ' \\\n",
    "        + f\"+= {factor:+.8f} * np.einsum('\"\\\n",
    "        + exstr \\\n",
    "        + \"', \" \\\n",
    "        + tenstr\n",
    "\n",
    "    return einsumstr, antisym    \n",
    "\n",
    "def make_code(mbeq, fmt='dict', tensor_name=None):\n",
    "    code = ''\n",
    "    nlines = 0\n",
    "    for i in mbeq:\n",
    "        einsum, antisym = compile_einsum(i, fmt, tensor_name)\n",
    "        code += '\\t' + einsum + '\\n'\n",
    "        nlines += 1\n",
    "        if (antisym != ''):\n",
    "            if (False): # Turn it off for now.\n",
    "                if (antisym == 'l'):\n",
    "                    einsum, _ = compile_einsum(i, fmt, tensor_name, antisym_in='l')\n",
    "                    code += '\\t' + einsum + '\\n'\n",
    "                    nlines += 1\n",
    "                elif (antisym == 'r'):\n",
    "                    einsum, _ = compile_einsum(i, fmt, tensor_name, antisym_in='r')\n",
    "                    code += '\\t' + einsum + '\\n'\n",
    "                    nlines += 1\n",
    "                elif (antisym == 'lr'):\n",
    "                    einsum, _ = compile_einsum(i, fmt, tensor_name, antisym_in='l')\n",
    "                    code += '\\t' + einsum + '\\n'\n",
    "                    einsum, _ = compile_einsum(i, fmt, tensor_name, antisym_in='r')\n",
    "                    code += '\\t' + einsum + '\\n'\n",
    "                    einsum, _ = compile_einsum(i, fmt, tensor_name, antisym_in='lr')\n",
    "                    code += '\\t' + einsum + '\\n'\n",
    "                    nlines += 3\n",
    "\n",
    "    return code, nlines\n",
    "\n",
    "def get_elements(op1, op2, nbody):\n",
    "    \"\"\"\n",
    "    Returns the elements of the commutator of two operators.\n",
    "    \"\"\"\n",
    "    comm = w.commutator(op1, op2)\n",
    "    comm_expr = wt.contract(comm, nbody*2, nbody*2)\n",
    "    return comm_expr.to_manybody_equation(\"H\")\n",
    "\n",
    "def make_nbody_elements(op1, op2, nbody, fmt='slice'):\n",
    "    \"\"\"\n",
    "    Returns the elements of the commutator of two operators in einsum format.\n",
    "    \"\"\"\n",
    "    code = ''\n",
    "    nlines = 0\n",
    "    comm_expr = get_elements(op1, op2, nbody)\n",
    "\n",
    "    for key in comm_expr.keys():\n",
    "        if (nbody != 0):\n",
    "            if (fmt == 'slice'):\n",
    "                lhs_slice = re.findall(r'[a-zA-Z]', key)\n",
    "                if (len(lhs_slice) == 4):\n",
    "                    lhs_slice = ','.join(lhs_slice[:2]) + ',' + ','.join(lhs_slice[2:][::-1])\n",
    "                else:\n",
    "                    lhs_slice = ','.join(lhs_slice)\n",
    "            _ = make_code(comm_expr[key], fmt, f'C{nbody}[{lhs_slice}]')\n",
    "        else:\n",
    "            _ = make_code(comm_expr[key], fmt, f'C{nbody}')\n",
    "        code += _[0]\n",
    "        nlines += _[1]\n",
    "    return code, nlines"
   ]
  },
  {
   "attachments": {},
   "cell_type": "markdown",
   "metadata": {},
   "source": [
    "Here we first generate the MRPT2 energy and the AAAA block of $\\bar{H}$"
   ]
  },
  {
   "cell_type": "code",
   "execution_count": 34,
   "metadata": {},
   "outputs": [],
   "source": [
    "F = w.utils.gen_op('F',1,'cav','cav',diagonal=True)\n",
    "V = w.utils.gen_op('V',2,'cav','cav',diagonal=True)\n",
    "Hop = F + V\n",
    "\n",
    "T1op = w.utils.gen_op('T1',1,'av','ca',diagonal=False)\n",
    "T2op = w.utils.gen_op('T2',2,'av','ca',diagonal=False)\n",
    "Top = T1op + T2op\n",
    "\n",
    "HT = w.commutator(Hop, Top) # H1tilde has all blocks: note that the diagonal parts of Htilde1 are just the bare Hamiltonian\n",
    "HTexpr = wt.contract(HT, 0, 4)\n",
    "HTeq = HTexpr.to_manybody_equation(\"H\")"
   ]
  },
  {
   "cell_type": "code",
   "execution_count": 39,
   "metadata": {},
   "outputs": [
    {
     "data": {
      "text/plain": [
       "dict_keys(['aa|aa', 'aa|ac', 'aa|cc', 'aa|va', 'aa|vc', 'aa|vv', 'av|aa', 'av|ac', 'av|cc', 'av|va', 'av|vc', 'av|vv', 'a|a', 'a|c', 'a|v', 'ca|aa', 'ca|ac', 'ca|cc', 'ca|va', 'ca|vc', 'ca|vv', 'cc|aa', 'cc|ac', 'cc|cc', 'cc|va', 'cc|vc', 'cc|vv', 'cv|aa', 'cv|ac', 'cv|cc', 'cv|va', 'cv|vc', 'cv|vv', 'c|a', 'c|c', 'c|v', 'vv|aa', 'vv|ac', 'vv|va', 'vv|vc', 'vv|vv', 'v|a', 'v|c', 'v|v', '|'])"
      ]
     },
     "execution_count": 39,
     "metadata": {},
     "output_type": "execute_result"
    }
   ],
   "source": [
    "HTeq.keys()"
   ]
  },
  {
   "cell_type": "code",
   "execution_count": 58,
   "metadata": {},
   "outputs": [],
   "source": [
    "def make_contractions_file():\n",
    "    input_dict = {\n",
    "        'H_T_C0':   (Hop, Top, 0),\n",
    "        'H1_T1_C1': (F, T1op, 1),\n",
    "        'H1_T2_C1': (F, T2op, 1),\n",
    "        'H2_T1_C1': (V, T1op, 1),\n",
    "        'H2_T2_C1': (V, T2op, 1),\n",
    "        'H1_T2_C2': (F, T2op, 2),\n",
    "        'H2_T1_C2': (V, T1op, 2),\n",
    "        'H2_T2_C2': (V, T2op, 2)\n",
    "    }\n",
    "    slicedef = '\\thc = mf.hc\\n\\tha = mf.ha\\n\\tpa = mf.pa\\n\\tpv = mf.pv\\n\\tc = mf.core\\n\\ta = mf.active\\n\\tv = mf.virt\\n'\n",
    "\n",
    "    with open('wicked_contractions.py', 'w') as f:\n",
    "        f.write('import numpy as np\\nimport time\\n\\n')\n",
    "        for key in input_dict.keys():\n",
    "            code, nlines = make_nbody_elements(*input_dict[key], fmt='slice')\n",
    "            f.write('def ' + key + '(C1, C2, F, V, T1, T2, gamma1, eta1, lambda2, lambda3, mf):\\n')\n",
    "            f.write('\\t# ' + str(nlines) + ' lines\\n')\n",
    "            f.write('\\tt0 = time.time()\\n')\n",
    "            if (key == 'H_T_C0'): f.write('\\tC0 = .0j\\n')\n",
    "            f.write(slicedef+'\\n')\n",
    "            f.write(code + '\\n')\n",
    "            f.write('\\tt1 = time.time()\\n')\n",
    "            f.write('\\tprint(\"'+key+' took {:.4f} seconds to run.\".format(t1-t0))\\n\\n')\n",
    "            if (key == 'H_T_C0'): f.write('\\treturn C0\\n\\n')"
   ]
  },
  {
   "cell_type": "code",
   "execution_count": 68,
   "metadata": {},
   "outputs": [
    {
     "name": "stdout",
     "output_type": "stream",
     "text": [
      "H^{c0,a0}_{a1,a2} += 1/4 T2^{c0,a0}_{a3,a4} V^{a5,a6}_{a1,a2} eta1^{a4}_{a6} eta1^{a3}_{a5}\n",
      "H_caaa += +0.25000000 * np.einsum('iuvw,xyzr,wr,vz->iuxy', T2['caaa'], V['aaaa'], eta1, eta1, optimize='optimal')\n"
     ]
    }
   ],
   "source": [
    "print(HTeq['ca|aa'][22])\n",
    "print(compile_einsum(HTeq['ca|aa'][22])[0])"
   ]
  },
  {
   "cell_type": "code",
   "execution_count": 69,
   "metadata": {},
   "outputs": [
    {
     "data": {
      "text/plain": [
       "wicked._wicked.Equation"
      ]
     },
     "execution_count": 69,
     "metadata": {},
     "output_type": "execute_result"
    }
   ],
   "source": [
    "type(HTeq['ca|aa'][22])"
   ]
  },
  {
   "cell_type": "code",
   "execution_count": 59,
   "metadata": {},
   "outputs": [],
   "source": [
    "make_contractions_file()"
   ]
  },
  {
   "attachments": {},
   "cell_type": "markdown",
   "metadata": {},
   "source": [
    "Here we first show how $E^{(2)}$ can be generated."
   ]
  },
  {
   "cell_type": "code",
   "execution_count": 6,
   "metadata": {},
   "outputs": [
    {
     "name": "stdout",
     "output_type": "stream",
     "text": [
      "\tH += +1.00000000 * np.einsum('iu,iv,vu->', F[c,a], T1[hc,pa], eta1, optimize='optimal')\n",
      "\tH += -0.50000000 * np.einsum('iu,ivwx,wxuv->', F[c,a], T2[hc,ha,pa,pa], lambda2, optimize='optimal')\n",
      "\tH += +1.00000000 * np.einsum('ia,ia->', F[c,v], T1[hc,pv], optimize='optimal')\n",
      "\tH += +1.00000000 * np.einsum('ua,va,uv->', F[a,v], T1[ha,pv], gamma1, optimize='optimal')\n",
      "\tH += -0.50000000 * np.einsum('ua,vwxa,uxvw->', F[a,v], T2[ha,ha,pa,pv], lambda2, optimize='optimal')\n",
      "\tH += -0.50000000 * np.einsum('iu,ivwx,uvwx->', T1[hc,pa], V[c,a,a,a], lambda2, optimize='optimal')\n",
      "\tH += -0.50000000 * np.einsum('ua,vwxa,vwux->', T1[ha,pv], V[a,a,a,v], lambda2, optimize='optimal')\n",
      "\tH += +0.25000000 * np.einsum('ijuv,ijwx,vx,uw->', T2[hc,hc,pa,pa], V[c,c,a,a], eta1, eta1, optimize='optimal')\n",
      "\tH += +0.12500000 * np.einsum('ijuv,ijwx,uvwx->', T2[hc,hc,pa,pa], V[c,c,a,a], lambda2, optimize='optimal')\n",
      "\tH += +0.50000000 * np.einsum('iuvw,ixyz,wz,vy,xu->', T2[hc,ha,pa,pa], V[c,a,a,a], eta1, eta1, gamma1, optimize='optimal')\n",
      "\tH += +1.00000000 * np.einsum('iuvw,ixyz,wz,vxuy->', T2[hc,ha,pa,pa], V[c,a,a,a], eta1, lambda2, optimize='optimal')\n",
      "\tH += +0.25000000 * np.einsum('iuvw,ixyz,xu,vwyz->', T2[hc,ha,pa,pa], V[c,a,a,a], gamma1, lambda2, optimize='optimal')\n",
      "\tH += +0.25000000 * np.einsum('iuvw,ixyz,vwxuyz->', T2[hc,ha,pa,pa], V[c,a,a,a], lambda3, optimize='optimal')\n",
      "\tH += +0.50000000 * np.einsum('ijua,ijva,uv->', T2[hc,hc,pa,pv], V[c,c,a,v], eta1, optimize='optimal')\n",
      "\tH += +1.00000000 * np.einsum('iuva,iwxa,vx,wu->', T2[hc,ha,pa,pv], V[c,a,a,v], eta1, gamma1, optimize='optimal')\n",
      "\tH += +1.00000000 * np.einsum('iuva,iwxa,vwux->', T2[hc,ha,pa,pv], V[c,a,a,v], lambda2, optimize='optimal')\n",
      "\tH += +0.50000000 * np.einsum('uvwa,xyza,wz,yv,xu->', T2[ha,ha,pa,pv], V[a,a,a,v], eta1, gamma1, gamma1, optimize='optimal')\n",
      "\tH += +0.25000000 * np.einsum('uvwa,xyza,wz,xyuv->', T2[ha,ha,pa,pv], V[a,a,a,v], eta1, lambda2, optimize='optimal')\n",
      "\tH += +1.00000000 * np.einsum('uvwa,xyza,yv,wxuz->', T2[ha,ha,pa,pv], V[a,a,a,v], gamma1, lambda2, optimize='optimal')\n",
      "\tH += -0.25000000 * np.einsum('uvwa,xyza,wxyuvz->', T2[ha,ha,pa,pv], V[a,a,a,v], lambda3, optimize='optimal')\n",
      "\tH += +0.25000000 * np.einsum('ijab,ijab->', T2[hc,hc,pv,pv], V[c,c,v,v], optimize='optimal')\n",
      "\tH += +0.50000000 * np.einsum('iuab,ivab,vu->', T2[hc,ha,pv,pv], V[c,a,v,v], gamma1, optimize='optimal')\n",
      "\tH += +0.25000000 * np.einsum('uvab,wxab,xv,wu->', T2[ha,ha,pv,pv], V[a,a,v,v], gamma1, gamma1, optimize='optimal')\n",
      "\tH += +0.12500000 * np.einsum('uvab,wxab,wxuv->', T2[ha,ha,pv,pv], V[a,a,v,v], lambda2, optimize='optimal')\n",
      "\n"
     ]
    }
   ],
   "source": [
    "print(make_code(HTeq['|'], fmt='slice')[0])"
   ]
  },
  {
   "attachments": {},
   "cell_type": "markdown",
   "metadata": {},
   "source": [
    "Followed by the one- and two-body components of the all-active part of $\\bar{H}^{(1)}$ required by reference relaxation"
   ]
  },
  {
   "cell_type": "code",
   "execution_count": 7,
   "metadata": {},
   "outputs": [
    {
     "name": "stdout",
     "output_type": "stream",
     "text": [
      "\tH_aa += -1.00000000 * np.einsum('iu,iv->uv', F[c,a], T1[hc,pa], optimize='optimal')\n",
      "\tH_aa += -1.00000000 * np.einsum('iu,ivwx,xu->vw', F[c,a], T2[hc,ha,pa,pa], eta1, optimize='optimal')\n",
      "\tH_aa += -1.00000000 * np.einsum('ia,iuva->uv', F[c,v], T2[hc,ha,pa,pv], optimize='optimal')\n",
      "\tH_aa += +1.00000000 * np.einsum('ua,va->vu', F[a,v], T1[ha,pv], optimize='optimal')\n",
      "\tH_aa += +1.00000000 * np.einsum('ua,vwxa,uw->vx', F[a,v], T2[ha,ha,pa,pv], gamma1, optimize='optimal')\n",
      "\tH_aa += -1.00000000 * np.einsum('iu,ivwx,ux->wv', T1[hc,pa], V[c,a,a,a], eta1, optimize='optimal')\n",
      "\tH_aa += -1.00000000 * np.einsum('ia,iuva->vu', T1[hc,pv], V[c,a,a,v], optimize='optimal')\n",
      "\tH_aa += +1.00000000 * np.einsum('ua,vwxa,wu->xv', T1[ha,pv], V[a,a,a,v], gamma1, optimize='optimal')\n",
      "\tH_aa += -0.50000000 * np.einsum('ijuv,ijwx,vx->wu', T2[hc,hc,pa,pa], V[c,c,a,a], eta1, optimize='optimal')\n",
      "\tH_aa += +0.50000000 * np.einsum('iuvw,ixyz,wxyz->uv', T2[hc,ha,pa,pa], V[c,a,a,a], lambda2, optimize='optimal')\n",
      "\tH_aa += -1.00000000 * np.einsum('iuvw,ixyz,wz,xu->yv', T2[hc,ha,pa,pa], V[c,a,a,a], eta1, gamma1, optimize='optimal')\n",
      "\tH_aa += -1.00000000 * np.einsum('iuvw,ixyz,wxuz->yv', T2[hc,ha,pa,pa], V[c,a,a,a], lambda2, optimize='optimal')\n",
      "\tH_aa += -0.50000000 * np.einsum('ijua,ijva->vu', T2[hc,hc,pa,pv], V[c,c,a,v], optimize='optimal')\n",
      "\tH_aa += -1.00000000 * np.einsum('iuva,iwxa,wu->xv', T2[hc,ha,pa,pv], V[c,a,a,v], gamma1, optimize='optimal')\n",
      "\tH_aa += -0.50000000 * np.einsum('uvwa,xyza,xyvz->uw', T2[ha,ha,pa,pv], V[a,a,a,v], lambda2, optimize='optimal')\n",
      "\tH_aa += -0.50000000 * np.einsum('uvwa,xyza,yv,xu->zw', T2[ha,ha,pa,pv], V[a,a,a,v], gamma1, gamma1, optimize='optimal')\n",
      "\tH_aa += -0.25000000 * np.einsum('uvwa,xyza,xyuv->zw', T2[ha,ha,pa,pv], V[a,a,a,v], lambda2, optimize='optimal')\n",
      "\tH_aa += +0.50000000 * np.einsum('iuvw,ixyz,wz,vy->ux', T2[hc,ha,pa,pa], V[c,a,a,a], eta1, eta1, optimize='optimal')\n",
      "\tH_aa += +0.25000000 * np.einsum('iuvw,ixyz,vwyz->ux', T2[hc,ha,pa,pa], V[c,a,a,a], lambda2, optimize='optimal')\n",
      "\tH_aa += -0.50000000 * np.einsum('iuvw,ixyz,vwuz->yx', T2[hc,ha,pa,pa], V[c,a,a,a], lambda2, optimize='optimal')\n",
      "\tH_aa += +1.00000000 * np.einsum('iuva,iwxa,vx->uw', T2[hc,ha,pa,pv], V[c,a,a,v], eta1, optimize='optimal')\n",
      "\tH_aa += +1.00000000 * np.einsum('uvwa,xyza,wz,yv->ux', T2[ha,ha,pa,pv], V[a,a,a,v], eta1, gamma1, optimize='optimal')\n",
      "\tH_aa += +1.00000000 * np.einsum('uvwa,xyza,wyvz->ux', T2[ha,ha,pa,pv], V[a,a,a,v], lambda2, optimize='optimal')\n",
      "\tH_aa += +0.50000000 * np.einsum('uvwa,xyza,wyuv->zx', T2[ha,ha,pa,pv], V[a,a,a,v], lambda2, optimize='optimal')\n",
      "\tH_aa += +0.50000000 * np.einsum('iuab,ivab->uv', T2[hc,ha,pv,pv], V[c,a,v,v], optimize='optimal')\n",
      "\tH_aa += +0.50000000 * np.einsum('uvab,wxab,xv->uw', T2[ha,ha,pv,pv], V[a,a,v,v], gamma1, optimize='optimal')\n",
      "\n"
     ]
    }
   ],
   "source": [
    "print(make_code(HTeq['a|a'], fmt='slice')[0])"
   ]
  },
  {
   "cell_type": "code",
   "execution_count": 8,
   "metadata": {},
   "outputs": [
    {
     "name": "stdout",
     "output_type": "stream",
     "text": [
      "\t_V += -0.50000000 * np.einsum('iu,ivwx->uvwx', F[c,a], T2[hc,ha,pa,pa], optimize='optimal')\n",
      "\t_V += +0.50000000 * np.einsum('iu,ivwx->vuwx', F[c,a], T2[hc,ha,pa,pa], optimize='optimal')\n",
      "\t_V += +0.50000000 * np.einsum('iu,ivwx->uvxw', F[c,a], T2[hc,ha,pa,pa], optimize='optimal')\n",
      "\t_V += -0.50000000 * np.einsum('iu,ivwx->vuxw', F[c,a], T2[hc,ha,pa,pa], optimize='optimal')\n",
      "\t_V += -0.50000000 * np.einsum('ua,vwxa->vwux', F[a,v], T2[ha,ha,pa,pv], optimize='optimal')\n",
      "\t_V += +0.50000000 * np.einsum('ua,vwxa->wvux', F[a,v], T2[ha,ha,pa,pv], optimize='optimal')\n",
      "\t_V += +0.50000000 * np.einsum('ua,vwxa->vwxu', F[a,v], T2[ha,ha,pa,pv], optimize='optimal')\n",
      "\t_V += -0.50000000 * np.einsum('ua,vwxa->wvxu', F[a,v], T2[ha,ha,pa,pv], optimize='optimal')\n",
      "\t_V += -0.50000000 * np.einsum('iu,ivwx->wxuv', T1[hc,pa], V[c,a,a,a], optimize='optimal')\n",
      "\t_V += +0.50000000 * np.einsum('iu,ivwx->xwuv', T1[hc,pa], V[c,a,a,a], optimize='optimal')\n",
      "\t_V += +0.50000000 * np.einsum('iu,ivwx->wxvu', T1[hc,pa], V[c,a,a,a], optimize='optimal')\n",
      "\t_V += -0.50000000 * np.einsum('iu,ivwx->xwvu', T1[hc,pa], V[c,a,a,a], optimize='optimal')\n",
      "\t_V += -0.50000000 * np.einsum('ua,vwxa->uxvw', T1[ha,pv], V[a,a,a,v], optimize='optimal')\n",
      "\t_V += +0.50000000 * np.einsum('ua,vwxa->xuvw', T1[ha,pv], V[a,a,a,v], optimize='optimal')\n",
      "\t_V += +0.50000000 * np.einsum('ua,vwxa->uxwv', T1[ha,pv], V[a,a,a,v], optimize='optimal')\n",
      "\t_V += -0.50000000 * np.einsum('ua,vwxa->xuwv', T1[ha,pv], V[a,a,a,v], optimize='optimal')\n",
      "\t_V += +0.12500000 * np.einsum('ijuv,ijwx->wxuv', T2[hc,hc,pa,pa], V[c,c,a,a], optimize='optimal')\n",
      "\t_V += -0.12500000 * np.einsum('ijuv,ijwx->xwuv', T2[hc,hc,pa,pa], V[c,c,a,a], optimize='optimal')\n",
      "\t_V += -0.12500000 * np.einsum('ijuv,ijwx->wxvu', T2[hc,hc,pa,pa], V[c,c,a,a], optimize='optimal')\n",
      "\t_V += +0.12500000 * np.einsum('ijuv,ijwx->xwvu', T2[hc,hc,pa,pa], V[c,c,a,a], optimize='optimal')\n",
      "\t_V += +0.25000000 * np.einsum('iuvw,ixyz,xu->yzvw', T2[hc,ha,pa,pa], V[c,a,a,a], gamma1, optimize='optimal')\n",
      "\t_V += -0.25000000 * np.einsum('iuvw,ixyz,xu->zyvw', T2[hc,ha,pa,pa], V[c,a,a,a], gamma1, optimize='optimal')\n",
      "\t_V += -0.25000000 * np.einsum('iuvw,ixyz,xu->yzwv', T2[hc,ha,pa,pa], V[c,a,a,a], gamma1, optimize='optimal')\n",
      "\t_V += +0.25000000 * np.einsum('iuvw,ixyz,xu->zywv', T2[hc,ha,pa,pa], V[c,a,a,a], gamma1, optimize='optimal')\n",
      "\t_V += +1.00000000 * np.einsum('iuvw,ixyz,wz->uyvx', T2[hc,ha,pa,pa], V[c,a,a,a], eta1, optimize='optimal')\n",
      "\t_V += -1.00000000 * np.einsum('iuvw,ixyz,wz->yuvx', T2[hc,ha,pa,pa], V[c,a,a,a], eta1, optimize='optimal')\n",
      "\t_V += -1.00000000 * np.einsum('iuvw,ixyz,wz->uyxv', T2[hc,ha,pa,pa], V[c,a,a,a], eta1, optimize='optimal')\n",
      "\t_V += +1.00000000 * np.einsum('iuvw,ixyz,wz->yuxv', T2[hc,ha,pa,pa], V[c,a,a,a], eta1, optimize='optimal')\n",
      "\t_V += +1.00000000 * np.einsum('iuva,iwxa->uxvw', T2[hc,ha,pa,pv], V[c,a,a,v], optimize='optimal')\n",
      "\t_V += -1.00000000 * np.einsum('iuva,iwxa->xuvw', T2[hc,ha,pa,pv], V[c,a,a,v], optimize='optimal')\n",
      "\t_V += -1.00000000 * np.einsum('iuva,iwxa->uxwv', T2[hc,ha,pa,pv], V[c,a,a,v], optimize='optimal')\n",
      "\t_V += +1.00000000 * np.einsum('iuva,iwxa->xuwv', T2[hc,ha,pa,pv], V[c,a,a,v], optimize='optimal')\n",
      "\t_V += +1.00000000 * np.einsum('uvwa,xyza,yv->uzwx', T2[ha,ha,pa,pv], V[a,a,a,v], gamma1, optimize='optimal')\n",
      "\t_V += -1.00000000 * np.einsum('uvwa,xyza,yv->zuwx', T2[ha,ha,pa,pv], V[a,a,a,v], gamma1, optimize='optimal')\n",
      "\t_V += -1.00000000 * np.einsum('uvwa,xyza,yv->uzxw', T2[ha,ha,pa,pv], V[a,a,a,v], gamma1, optimize='optimal')\n",
      "\t_V += +1.00000000 * np.einsum('uvwa,xyza,yv->zuxw', T2[ha,ha,pa,pv], V[a,a,a,v], gamma1, optimize='optimal')\n",
      "\t_V += +0.25000000 * np.einsum('uvwa,xyza,wz->uvxy', T2[ha,ha,pa,pv], V[a,a,a,v], eta1, optimize='optimal')\n",
      "\t_V += -0.25000000 * np.einsum('uvwa,xyza,wz->vuxy', T2[ha,ha,pa,pv], V[a,a,a,v], eta1, optimize='optimal')\n",
      "\t_V += -0.25000000 * np.einsum('uvwa,xyza,wz->uvyx', T2[ha,ha,pa,pv], V[a,a,a,v], eta1, optimize='optimal')\n",
      "\t_V += +0.25000000 * np.einsum('uvwa,xyza,wz->vuyx', T2[ha,ha,pa,pv], V[a,a,a,v], eta1, optimize='optimal')\n",
      "\t_V += +0.12500000 * np.einsum('uvab,wxab->uvwx', T2[ha,ha,pv,pv], V[a,a,v,v], optimize='optimal')\n",
      "\t_V += -0.12500000 * np.einsum('uvab,wxab->vuwx', T2[ha,ha,pv,pv], V[a,a,v,v], optimize='optimal')\n",
      "\t_V += -0.12500000 * np.einsum('uvab,wxab->uvxw', T2[ha,ha,pv,pv], V[a,a,v,v], optimize='optimal')\n",
      "\t_V += +0.12500000 * np.einsum('uvab,wxab->vuxw', T2[ha,ha,pv,pv], V[a,a,v,v], optimize='optimal')\n",
      "\n"
     ]
    }
   ],
   "source": [
    "print(make_code(HTeq['aa|aa'], fmt='slice',tensor_name='_V')[0])"
   ]
  },
  {
   "cell_type": "markdown",
   "metadata": {},
   "source": [
    "Now we generate the following elements\n",
    "* $[\\hat{H}_1,\\hat{T}_1]_1$: H1_T1_C1\n",
    "* $[\\hat{H}_1,\\hat{T}_2]_1$: H1_T2_C1\n",
    "* $[\\hat{H}_2,\\hat{T}_1]_1$: H2_T1_C1\n",
    "* $[\\hat{H}_2,\\hat{T}_2]_1$: H2_T2_C1\n",
    "* $[\\hat{H}_1,\\hat{T}_2]_2$: H1_T2_C2\n",
    "* $[\\hat{H}_2,\\hat{T}_1]_2$: H2_T1_C2\n",
    "* $[\\hat{H}_2,\\hat{T}_2]_2$: H2_T2_C2"
   ]
  },
  {
   "cell_type": "code",
   "execution_count": 9,
   "metadata": {},
   "outputs": [
    {
     "name": "stdout",
     "output_type": "stream",
     "text": [
      "(\"\\tH2[a,a,a,a] += -0.50000000 * np.einsum('iu,ivwx->uvwx', F[c,a], T2[hc,ha,pa,pa], optimize='optimal')\\n\\tH2[a,a,a,a] += +0.50000000 * np.einsum('iu,ivwx->vuwx', F[c,a], T2[hc,ha,pa,pa], optimize='optimal')\\n\\tH2[a,a,a,a] += +0.50000000 * np.einsum('iu,ivwx->uvxw', F[c,a], T2[hc,ha,pa,pa], optimize='optimal')\\n\\tH2[a,a,a,a] += -0.50000000 * np.einsum('iu,ivwx->vuxw', F[c,a], T2[hc,ha,pa,pa], optimize='optimal')\\n\\tH2[a,a,a,a] += -0.50000000 * np.einsum('ua,vwxa->vwux', F[a,v], T2[ha,ha,pa,pv], optimize='optimal')\\n\\tH2[a,a,a,a] += +0.50000000 * np.einsum('ua,vwxa->wvux', F[a,v], T2[ha,ha,pa,pv], optimize='optimal')\\n\\tH2[a,a,a,a] += +0.50000000 * np.einsum('ua,vwxa->vwxu', F[a,v], T2[ha,ha,pa,pv], optimize='optimal')\\n\\tH2[a,a,a,a] += -0.50000000 * np.einsum('ua,vwxa->wvxu', F[a,v], T2[ha,ha,pa,pv], optimize='optimal')\\n\\tH2[a,a,a,c] += -0.50000000 * np.einsum('ia,uvwa->uviw', F[c,v], T2[ha,ha,pa,pv], optimize='optimal')\\n\\tH2[a,a,a,c] += +0.50000000 * np.einsum('ia,uvwa->vuiw', F[c,v], T2[ha,ha,pa,pv], optimize='optimal')\\n\\tH2[a,a,v,a] += -1.00000000 * np.einsum('iu,ivwa->uvwa', F[c,a], T2[hc,ha,pa,pv], optimize='optimal')\\n\\tH2[a,a,v,a] += +1.00000000 * np.einsum('iu,ivwa->vuwa', F[c,a], T2[hc,ha,pa,pv], optimize='optimal')\\n\\tH2[a,a,v,a] += +0.50000000 * np.einsum('uv,wxya,yv->wxua', F[a,a], T2[ha,ha,pa,pv], eta1, optimize='optimal')\\n\\tH2[a,a,v,a] += -0.50000000 * np.einsum('uv,wxya,yv->xwua', F[a,a], T2[ha,ha,pa,pv], eta1, optimize='optimal')\\n\\tH2[a,a,v,a] += +0.50000000 * np.einsum('uv,wxya,yv->wxua', F[a,a], T2[ha,ha,pa,pv], gamma1, optimize='optimal')\\n\\tH2[a,a,v,a] += -0.50000000 * np.einsum('uv,wxya,yv->xwua', F[a,a], T2[ha,ha,pa,pv], gamma1, optimize='optimal')\\n\\tH2[a,a,v,a] += -0.50000000 * np.einsum('ua,vwba->vwub', F[a,v], T2[ha,ha,pv,pv], optimize='optimal')\\n\\tH2[a,a,v,a] += +0.50000000 * np.einsum('ua,vwba->wvub', F[a,v], T2[ha,ha,pv,pv], optimize='optimal')\\n\\tH2[a,a,v,a] += +1.00000000 * np.einsum('uv,wxya,ux->vwya', F[a,a], T2[ha,ha,pa,pv], eta1, optimize='optimal')\\n\\tH2[a,a,v,a] += -1.00000000 * np.einsum('uv,wxya,ux->wvya', F[a,a], T2[ha,ha,pa,pv], eta1, optimize='optimal')\\n\\tH2[a,a,v,a] += +1.00000000 * np.einsum('uv,wxya,ux->vwya', F[a,a], T2[ha,ha,pa,pv], gamma1, optimize='optimal')\\n\\tH2[a,a,v,a] += -1.00000000 * np.einsum('uv,wxya,ux->wvya', F[a,a], T2[ha,ha,pa,pv], gamma1, optimize='optimal')\\n\\tH2[a,a,v,a] += +0.50000000 * np.einsum('ab,uvwb->uvwa', F[v,v], T2[ha,ha,pa,pv], optimize='optimal')\\n\\tH2[a,a,v,a] += -0.50000000 * np.einsum('ab,uvwb->vuwa', F[v,v], T2[ha,ha,pa,pv], optimize='optimal')\\n\\tH2[a,a,v,c] += +0.50000000 * np.einsum('iu,vwxa,xu->vwia', F[c,a], T2[ha,ha,pa,pv], eta1, optimize='optimal')\\n\\tH2[a,a,v,c] += -0.50000000 * np.einsum('iu,vwxa,xu->wvia', F[c,a], T2[ha,ha,pa,pv], eta1, optimize='optimal')\\n\\tH2[a,a,v,c] += +0.50000000 * np.einsum('iu,vwxa,xu->vwia', F[c,a], T2[ha,ha,pa,pv], gamma1, optimize='optimal')\\n\\tH2[a,a,v,c] += -0.50000000 * np.einsum('iu,vwxa,xu->wvia', F[c,a], T2[ha,ha,pa,pv], gamma1, optimize='optimal')\\n\\tH2[a,a,v,c] += -0.50000000 * np.einsum('ia,uvba->uvib', F[c,v], T2[ha,ha,pv,pv], optimize='optimal')\\n\\tH2[a,a,v,c] += +0.50000000 * np.einsum('ia,uvba->vuib', F[c,v], T2[ha,ha,pv,pv], optimize='optimal')\\n\\tH2[a,a,v,v] += -0.50000000 * np.einsum('iu,ivab->uvab', F[c,a], T2[hc,ha,pv,pv], optimize='optimal')\\n\\tH2[a,a,v,v] += +0.50000000 * np.einsum('iu,ivab->vuab', F[c,a], T2[hc,ha,pv,pv], optimize='optimal')\\n\\tH2[a,a,v,v] += +0.50000000 * np.einsum('iu,ivab->uvba', F[c,a], T2[hc,ha,pv,pv], optimize='optimal')\\n\\tH2[a,a,v,v] += -0.50000000 * np.einsum('iu,ivab->vuba', F[c,a], T2[hc,ha,pv,pv], optimize='optimal')\\n\\tH2[a,a,v,v] += +0.50000000 * np.einsum('uv,wxab,ux->vwab', F[a,a], T2[ha,ha,pv,pv], eta1, optimize='optimal')\\n\\tH2[a,a,v,v] += -0.50000000 * np.einsum('uv,wxab,ux->wvab', F[a,a], T2[ha,ha,pv,pv], eta1, optimize='optimal')\\n\\tH2[a,a,v,v] += -0.50000000 * np.einsum('uv,wxab,ux->vwba', F[a,a], T2[ha,ha,pv,pv], eta1, optimize='optimal')\\n\\tH2[a,a,v,v] += +0.50000000 * np.einsum('uv,wxab,ux->wvba', F[a,a], T2[ha,ha,pv,pv], eta1, optimize='optimal')\\n\\tH2[a,a,v,v] += +0.50000000 * np.einsum('uv,wxab,ux->vwab', F[a,a], T2[ha,ha,pv,pv], gamma1, optimize='optimal')\\n\\tH2[a,a,v,v] += -0.50000000 * np.einsum('uv,wxab,ux->wvab', F[a,a], T2[ha,ha,pv,pv], gamma1, optimize='optimal')\\n\\tH2[a,a,v,v] += -0.50000000 * np.einsum('uv,wxab,ux->vwba', F[a,a], T2[ha,ha,pv,pv], gamma1, optimize='optimal')\\n\\tH2[a,a,v,v] += +0.50000000 * np.einsum('uv,wxab,ux->wvba', F[a,a], T2[ha,ha,pv,pv], gamma1, optimize='optimal')\\n\\tH2[a,a,v,v] += +0.50000000 * np.einsum('au,vwxb,xu->vwab', F[v,a], T2[ha,ha,pa,pv], eta1, optimize='optimal')\\n\\tH2[a,a,v,v] += -0.50000000 * np.einsum('au,vwxb,xu->wvab', F[v,a], T2[ha,ha,pa,pv], eta1, optimize='optimal')\\n\\tH2[a,a,v,v] += -0.50000000 * np.einsum('au,vwxb,xu->vwba', F[v,a], T2[ha,ha,pa,pv], eta1, optimize='optimal')\\n\\tH2[a,a,v,v] += +0.50000000 * np.einsum('au,vwxb,xu->wvba', F[v,a], T2[ha,ha,pa,pv], eta1, optimize='optimal')\\n\\tH2[a,a,v,v] += +0.50000000 * np.einsum('au,vwxb,xu->vwab', F[v,a], T2[ha,ha,pa,pv], gamma1, optimize='optimal')\\n\\tH2[a,a,v,v] += -0.50000000 * np.einsum('au,vwxb,xu->wvab', F[v,a], T2[ha,ha,pa,pv], gamma1, optimize='optimal')\\n\\tH2[a,a,v,v] += -0.50000000 * np.einsum('au,vwxb,xu->vwba', F[v,a], T2[ha,ha,pa,pv], gamma1, optimize='optimal')\\n\\tH2[a,a,v,v] += +0.50000000 * np.einsum('au,vwxb,xu->wvba', F[v,a], T2[ha,ha,pa,pv], gamma1, optimize='optimal')\\n\\tH2[a,a,v,v] += -0.50000000 * np.einsum('ab,uvcb->uvac', F[v,v], T2[ha,ha,pv,pv], optimize='optimal')\\n\\tH2[a,a,v,v] += +0.50000000 * np.einsum('ab,uvcb->vuac', F[v,v], T2[ha,ha,pv,pv], optimize='optimal')\\n\\tH2[a,a,v,v] += +0.50000000 * np.einsum('ab,uvcb->uvca', F[v,v], T2[ha,ha,pv,pv], optimize='optimal')\\n\\tH2[a,a,v,v] += -0.50000000 * np.einsum('ab,uvcb->vuca', F[v,v], T2[ha,ha,pv,pv], optimize='optimal')\\n\\tH2[a,v,a,a] += +0.50000000 * np.einsum('ia,iuvw->uavw', F[c,v], T2[hc,ha,pa,pa], optimize='optimal')\\n\\tH2[a,v,a,a] += -0.50000000 * np.einsum('ia,iuvw->uawv', F[c,v], T2[hc,ha,pa,pa], optimize='optimal')\\n\\tH2[a,v,v,a] += +1.00000000 * np.einsum('ia,iuvb->uavb', F[c,v], T2[hc,ha,pa,pv], optimize='optimal')\\n\\tH2[a,v,v,a] += -1.00000000 * np.einsum('ua,vwxb,uw->vaxb', F[a,v], T2[ha,ha,pa,pv], eta1, optimize='optimal')\\n\\tH2[a,v,v,a] += -1.00000000 * np.einsum('ua,vwxb,uw->vaxb', F[a,v], T2[ha,ha,pa,pv], gamma1, optimize='optimal')\\n\\tH2[a,v,v,v] += +0.50000000 * np.einsum('ia,iubc->uabc', F[c,v], T2[hc,ha,pv,pv], optimize='optimal')\\n\\tH2[a,v,v,v] += -0.50000000 * np.einsum('ia,iubc->uacb', F[c,v], T2[hc,ha,pv,pv], optimize='optimal')\\n\\tH2[a,v,v,v] += -0.50000000 * np.einsum('ua,vwbc,uw->vabc', F[a,v], T2[ha,ha,pv,pv], eta1, optimize='optimal')\\n\\tH2[a,v,v,v] += +0.50000000 * np.einsum('ua,vwbc,uw->vacb', F[a,v], T2[ha,ha,pv,pv], eta1, optimize='optimal')\\n\\tH2[a,v,v,v] += -0.50000000 * np.einsum('ua,vwbc,uw->vabc', F[a,v], T2[ha,ha,pv,pv], gamma1, optimize='optimal')\\n\\tH2[a,v,v,v] += +0.50000000 * np.einsum('ua,vwbc,uw->vacb', F[a,v], T2[ha,ha,pv,pv], gamma1, optimize='optimal')\\n\\tH2[c,a,a,a] += -0.50000000 * np.einsum('ij,iuvw->juvw', F[c,c], T2[hc,ha,pa,pa], optimize='optimal')\\n\\tH2[c,a,a,a] += +0.50000000 * np.einsum('ij,iuvw->juwv', F[c,c], T2[hc,ha,pa,pa], optimize='optimal')\\n\\tH2[c,a,a,a] += -0.50000000 * np.einsum('iu,jivw->juvw', F[c,a], T2[hc,hc,pa,pa], optimize='optimal')\\n\\tH2[c,a,a,a] += +0.50000000 * np.einsum('iu,jivw->juwv', F[c,a], T2[hc,hc,pa,pa], optimize='optimal')\\n\\tH2[c,a,a,a] += -1.00000000 * np.einsum('uv,iwxy,yv->iwux', F[a,a], T2[hc,ha,pa,pa], eta1, optimize='optimal')\\n\\tH2[c,a,a,a] += +1.00000000 * np.einsum('uv,iwxy,yv->iwxu', F[a,a], T2[hc,ha,pa,pa], eta1, optimize='optimal')\\n\\tH2[c,a,a,a] += -1.00000000 * np.einsum('uv,iwxy,yv->iwux', F[a,a], T2[hc,ha,pa,pa], gamma1, optimize='optimal')\\n\\tH2[c,a,a,a] += +1.00000000 * np.einsum('uv,iwxy,yv->iwxu', F[a,a], T2[hc,ha,pa,pa], gamma1, optimize='optimal')\\n\\tH2[c,a,a,a] += -1.00000000 * np.einsum('ua,ivwa->ivuw', F[a,v], T2[hc,ha,pa,pv], optimize='optimal')\\n\\tH2[c,a,a,a] += +1.00000000 * np.einsum('ua,ivwa->ivwu', F[a,v], T2[hc,ha,pa,pv], optimize='optimal')\\n\\tH2[c,a,a,a] += -0.50000000 * np.einsum('uv,iwxy,uw->ivxy', F[a,a], T2[hc,ha,pa,pa], eta1, optimize='optimal')\\n\\tH2[c,a,a,a] += +0.50000000 * np.einsum('uv,iwxy,uw->ivyx', F[a,a], T2[hc,ha,pa,pa], eta1, optimize='optimal')\\n\\tH2[c,a,a,a] += -0.50000000 * np.einsum('uv,iwxy,uw->ivxy', F[a,a], T2[hc,ha,pa,pa], gamma1, optimize='optimal')\\n\\tH2[c,a,a,a] += +0.50000000 * np.einsum('uv,iwxy,uw->ivyx', F[a,a], T2[hc,ha,pa,pa], gamma1, optimize='optimal')\\n\\tH2[c,a,a,c] += -1.00000000 * np.einsum('iu,jvwx,xu->jviw', F[c,a], T2[hc,ha,pa,pa], eta1, optimize='optimal')\\n\\tH2[c,a,a,c] += -1.00000000 * np.einsum('iu,jvwx,xu->jviw', F[c,a], T2[hc,ha,pa,pa], gamma1, optimize='optimal')\\n\\tH2[c,a,a,c] += -1.00000000 * np.einsum('ia,juva->juiv', F[c,v], T2[hc,ha,pa,pv], optimize='optimal')\\n\\tH2[c,a,v,a] += -1.00000000 * np.einsum('ij,iuva->juva', F[c,c], T2[hc,ha,pa,pv], optimize='optimal')\\n\\tH2[c,a,v,a] += -1.00000000 * np.einsum('iu,jiva->juva', F[c,a], T2[hc,hc,pa,pv], optimize='optimal')\\n\\tH2[c,a,v,a] += +1.00000000 * np.einsum('uv,iwxa,xv->iwua', F[a,a], T2[hc,ha,pa,pv], eta1, optimize='optimal')\\n\\tH2[c,a,v,a] += +1.00000000 * np.einsum('uv,iwxa,xv->iwua', F[a,a], T2[hc,ha,pa,pv], gamma1, optimize='optimal')\\n\\tH2[c,a,v,a] += -1.00000000 * np.einsum('ua,ivba->ivub', F[a,v], T2[hc,ha,pv,pv], optimize='optimal')\\n\\tH2[c,a,v,a] += +1.00000000 * np.einsum('ui,vwxa,uw->ivxa', F[a,c], T2[ha,ha,pa,pv], eta1, optimize='optimal')\\n\\tH2[c,a,v,a] += +1.00000000 * np.einsum('ui,vwxa,uw->ivxa', F[a,c], T2[ha,ha,pa,pv], gamma1, optimize='optimal')\\n\\tH2[c,a,v,a] += -1.00000000 * np.einsum('uv,iwxa,uw->ivxa', F[a,a], T2[hc,ha,pa,pv], eta1, optimize='optimal')\\n\\tH2[c,a,v,a] += -1.00000000 * np.einsum('uv,iwxa,uw->ivxa', F[a,a], T2[hc,ha,pa,pv], gamma1, optimize='optimal')\\n\\tH2[c,a,v,a] += +1.00000000 * np.einsum('au,ivwx,xu->ivwa', F[v,a], T2[hc,ha,pa,pa], eta1, optimize='optimal')\\n\\tH2[c,a,v,a] += +1.00000000 * np.einsum('au,ivwx,xu->ivwa', F[v,a], T2[hc,ha,pa,pa], gamma1, optimize='optimal')\\n\\tH2[c,a,v,a] += +1.00000000 * np.einsum('ab,iuvb->iuva', F[v,v], T2[hc,ha,pa,pv], optimize='optimal')\\n\\tH2[c,a,v,c] += +1.00000000 * np.einsum('iu,jvwa,wu->jvia', F[c,a], T2[hc,ha,pa,pv], eta1, optimize='optimal')\\n\\tH2[c,a,v,c] += +1.00000000 * np.einsum('iu,jvwa,wu->jvia', F[c,a], T2[hc,ha,pa,pv], gamma1, optimize='optimal')\\n\\tH2[c,a,v,c] += -1.00000000 * np.einsum('ia,juba->juib', F[c,v], T2[hc,ha,pv,pv], optimize='optimal')\\n\\tH2[c,a,v,v] += -0.50000000 * np.einsum('ij,iuab->juab', F[c,c], T2[hc,ha,pv,pv], optimize='optimal')\\n\\tH2[c,a,v,v] += +0.50000000 * np.einsum('ij,iuab->juba', F[c,c], T2[hc,ha,pv,pv], optimize='optimal')\\n\\tH2[c,a,v,v] += -0.50000000 * np.einsum('iu,jiab->juab', F[c,a], T2[hc,hc,pv,pv], optimize='optimal')\\n\\tH2[c,a,v,v] += +0.50000000 * np.einsum('iu,jiab->juba', F[c,a], T2[hc,hc,pv,pv], optimize='optimal')\\n\\tH2[c,a,v,v] += +0.50000000 * np.einsum('ui,vwab,uw->ivab', F[a,c], T2[ha,ha,pv,pv], eta1, optimize='optimal')\\n\\tH2[c,a,v,v] += -0.50000000 * np.einsum('ui,vwab,uw->ivba', F[a,c], T2[ha,ha,pv,pv], eta1, optimize='optimal')\\n\\tH2[c,a,v,v] += +0.50000000 * np.einsum('ui,vwab,uw->ivab', F[a,c], T2[ha,ha,pv,pv], gamma1, optimize='optimal')\\n\\tH2[c,a,v,v] += -0.50000000 * np.einsum('ui,vwab,uw->ivba', F[a,c], T2[ha,ha,pv,pv], gamma1, optimize='optimal')\\n\\tH2[c,a,v,v] += -0.50000000 * np.einsum('uv,iwab,uw->ivab', F[a,a], T2[hc,ha,pv,pv], eta1, optimize='optimal')\\n\\tH2[c,a,v,v] += +0.50000000 * np.einsum('uv,iwab,uw->ivba', F[a,a], T2[hc,ha,pv,pv], eta1, optimize='optimal')\\n\\tH2[c,a,v,v] += -0.50000000 * np.einsum('uv,iwab,uw->ivab', F[a,a], T2[hc,ha,pv,pv], gamma1, optimize='optimal')\\n\\tH2[c,a,v,v] += +0.50000000 * np.einsum('uv,iwab,uw->ivba', F[a,a], T2[hc,ha,pv,pv], gamma1, optimize='optimal')\\n\\tH2[c,a,v,v] += +1.00000000 * np.einsum('au,ivwb,wu->ivab', F[v,a], T2[hc,ha,pa,pv], eta1, optimize='optimal')\\n\\tH2[c,a,v,v] += -1.00000000 * np.einsum('au,ivwb,wu->ivba', F[v,a], T2[hc,ha,pa,pv], eta1, optimize='optimal')\\n\\tH2[c,a,v,v] += +1.00000000 * np.einsum('au,ivwb,wu->ivab', F[v,a], T2[hc,ha,pa,pv], gamma1, optimize='optimal')\\n\\tH2[c,a,v,v] += -1.00000000 * np.einsum('au,ivwb,wu->ivba', F[v,a], T2[hc,ha,pa,pv], gamma1, optimize='optimal')\\n\\tH2[c,a,v,v] += -1.00000000 * np.einsum('ab,iucb->iuac', F[v,v], T2[hc,ha,pv,pv], optimize='optimal')\\n\\tH2[c,a,v,v] += +1.00000000 * np.einsum('ab,iucb->iuca', F[v,v], T2[hc,ha,pv,pv], optimize='optimal')\\n\\tH2[c,c,a,a] += +0.50000000 * np.einsum('ij,kiuv->jkuv', F[c,c], T2[hc,hc,pa,pa], optimize='optimal')\\n\\tH2[c,c,a,a] += -0.50000000 * np.einsum('ij,kiuv->kjuv', F[c,c], T2[hc,hc,pa,pa], optimize='optimal')\\n\\tH2[c,c,a,a] += -0.50000000 * np.einsum('ij,kiuv->jkvu', F[c,c], T2[hc,hc,pa,pa], optimize='optimal')\\n\\tH2[c,c,a,a] += +0.50000000 * np.einsum('ij,kiuv->kjvu', F[c,c], T2[hc,hc,pa,pa], optimize='optimal')\\n\\tH2[c,c,a,a] += -0.50000000 * np.einsum('uv,ijwx,xv->ijuw', F[a,a], T2[hc,hc,pa,pa], eta1, optimize='optimal')\\n\\tH2[c,c,a,a] += +0.50000000 * np.einsum('uv,ijwx,xv->jiuw', F[a,a], T2[hc,hc,pa,pa], eta1, optimize='optimal')\\n\\tH2[c,c,a,a] += +0.50000000 * np.einsum('uv,ijwx,xv->ijwu', F[a,a], T2[hc,hc,pa,pa], eta1, optimize='optimal')\\n\\tH2[c,c,a,a] += -0.50000000 * np.einsum('uv,ijwx,xv->jiwu', F[a,a], T2[hc,hc,pa,pa], eta1, optimize='optimal')\\n\\tH2[c,c,a,a] += -0.50000000 * np.einsum('uv,ijwx,xv->ijuw', F[a,a], T2[hc,hc,pa,pa], gamma1, optimize='optimal')\\n\\tH2[c,c,a,a] += +0.50000000 * np.einsum('uv,ijwx,xv->jiuw', F[a,a], T2[hc,hc,pa,pa], gamma1, optimize='optimal')\\n\\tH2[c,c,a,a] += +0.50000000 * np.einsum('uv,ijwx,xv->ijwu', F[a,a], T2[hc,hc,pa,pa], gamma1, optimize='optimal')\\n\\tH2[c,c,a,a] += -0.50000000 * np.einsum('uv,ijwx,xv->jiwu', F[a,a], T2[hc,hc,pa,pa], gamma1, optimize='optimal')\\n\\tH2[c,c,a,a] += -0.50000000 * np.einsum('ua,ijva->ijuv', F[a,v], T2[hc,hc,pa,pv], optimize='optimal')\\n\\tH2[c,c,a,a] += +0.50000000 * np.einsum('ua,ijva->jiuv', F[a,v], T2[hc,hc,pa,pv], optimize='optimal')\\n\\tH2[c,c,a,a] += +0.50000000 * np.einsum('ua,ijva->ijvu', F[a,v], T2[hc,hc,pa,pv], optimize='optimal')\\n\\tH2[c,c,a,a] += -0.50000000 * np.einsum('ua,ijva->jivu', F[a,v], T2[hc,hc,pa,pv], optimize='optimal')\\n\\tH2[c,c,a,a] += +0.50000000 * np.einsum('ui,jvwx,uv->ijwx', F[a,c], T2[hc,ha,pa,pa], eta1, optimize='optimal')\\n\\tH2[c,c,a,a] += -0.50000000 * np.einsum('ui,jvwx,uv->jiwx', F[a,c], T2[hc,ha,pa,pa], eta1, optimize='optimal')\\n\\tH2[c,c,a,a] += -0.50000000 * np.einsum('ui,jvwx,uv->ijxw', F[a,c], T2[hc,ha,pa,pa], eta1, optimize='optimal')\\n\\tH2[c,c,a,a] += +0.50000000 * np.einsum('ui,jvwx,uv->jixw', F[a,c], T2[hc,ha,pa,pa], eta1, optimize='optimal')\\n\\tH2[c,c,a,a] += +0.50000000 * np.einsum('ui,jvwx,uv->ijwx', F[a,c], T2[hc,ha,pa,pa], gamma1, optimize='optimal')\\n\\tH2[c,c,a,a] += -0.50000000 * np.einsum('ui,jvwx,uv->jiwx', F[a,c], T2[hc,ha,pa,pa], gamma1, optimize='optimal')\\n\\tH2[c,c,a,a] += -0.50000000 * np.einsum('ui,jvwx,uv->ijxw', F[a,c], T2[hc,ha,pa,pa], gamma1, optimize='optimal')\\n\\tH2[c,c,a,a] += +0.50000000 * np.einsum('ui,jvwx,uv->jixw', F[a,c], T2[hc,ha,pa,pa], gamma1, optimize='optimal')\\n\\tH2[c,c,a,c] += -0.50000000 * np.einsum('iu,jkvw,wu->jkiv', F[c,a], T2[hc,hc,pa,pa], eta1, optimize='optimal')\\n\\tH2[c,c,a,c] += +0.50000000 * np.einsum('iu,jkvw,wu->kjiv', F[c,a], T2[hc,hc,pa,pa], eta1, optimize='optimal')\\n\\tH2[c,c,a,c] += -0.50000000 * np.einsum('iu,jkvw,wu->jkiv', F[c,a], T2[hc,hc,pa,pa], gamma1, optimize='optimal')\\n\\tH2[c,c,a,c] += +0.50000000 * np.einsum('iu,jkvw,wu->kjiv', F[c,a], T2[hc,hc,pa,pa], gamma1, optimize='optimal')\\n\\tH2[c,c,a,c] += -0.50000000 * np.einsum('ia,jkua->jkiu', F[c,v], T2[hc,hc,pa,pv], optimize='optimal')\\n\\tH2[c,c,a,c] += +0.50000000 * np.einsum('ia,jkua->kjiu', F[c,v], T2[hc,hc,pa,pv], optimize='optimal')\\n\\tH2[c,c,v,a] += +1.00000000 * np.einsum('ij,kiua->jkua', F[c,c], T2[hc,hc,pa,pv], optimize='optimal')\\n\\tH2[c,c,v,a] += -1.00000000 * np.einsum('ij,kiua->kjua', F[c,c], T2[hc,hc,pa,pv], optimize='optimal')\\n\\tH2[c,c,v,a] += +0.50000000 * np.einsum('uv,ijwa,wv->ijua', F[a,a], T2[hc,hc,pa,pv], eta1, optimize='optimal')\\n\\tH2[c,c,v,a] += -0.50000000 * np.einsum('uv,ijwa,wv->jiua', F[a,a], T2[hc,hc,pa,pv], eta1, optimize='optimal')\\n\\tH2[c,c,v,a] += +0.50000000 * np.einsum('uv,ijwa,wv->ijua', F[a,a], T2[hc,hc,pa,pv], gamma1, optimize='optimal')\\n\\tH2[c,c,v,a] += -0.50000000 * np.einsum('uv,ijwa,wv->jiua', F[a,a], T2[hc,hc,pa,pv], gamma1, optimize='optimal')\\n\\tH2[c,c,v,a] += -0.50000000 * np.einsum('ua,ijba->ijub', F[a,v], T2[hc,hc,pv,pv], optimize='optimal')\\n\\tH2[c,c,v,a] += +0.50000000 * np.einsum('ua,ijba->jiub', F[a,v], T2[hc,hc,pv,pv], optimize='optimal')\\n\\tH2[c,c,v,a] += +1.00000000 * np.einsum('ui,jvwa,uv->ijwa', F[a,c], T2[hc,ha,pa,pv], eta1, optimize='optimal')\\n\\tH2[c,c,v,a] += -1.00000000 * np.einsum('ui,jvwa,uv->jiwa', F[a,c], T2[hc,ha,pa,pv], eta1, optimize='optimal')\\n\\tH2[c,c,v,a] += +1.00000000 * np.einsum('ui,jvwa,uv->ijwa', F[a,c], T2[hc,ha,pa,pv], gamma1, optimize='optimal')\\n\\tH2[c,c,v,a] += -1.00000000 * np.einsum('ui,jvwa,uv->jiwa', F[a,c], T2[hc,ha,pa,pv], gamma1, optimize='optimal')\\n\\tH2[c,c,v,a] += +0.50000000 * np.einsum('au,ijvw,wu->ijva', F[v,a], T2[hc,hc,pa,pa], eta1, optimize='optimal')\\n\\tH2[c,c,v,a] += -0.50000000 * np.einsum('au,ijvw,wu->jiva', F[v,a], T2[hc,hc,pa,pa], eta1, optimize='optimal')\\n\\tH2[c,c,v,a] += +0.50000000 * np.einsum('au,ijvw,wu->ijva', F[v,a], T2[hc,hc,pa,pa], gamma1, optimize='optimal')\\n\\tH2[c,c,v,a] += -0.50000000 * np.einsum('au,ijvw,wu->jiva', F[v,a], T2[hc,hc,pa,pa], gamma1, optimize='optimal')\\n\\tH2[c,c,v,a] += +0.50000000 * np.einsum('ab,ijub->ijua', F[v,v], T2[hc,hc,pa,pv], optimize='optimal')\\n\\tH2[c,c,v,a] += -0.50000000 * np.einsum('ab,ijub->jiua', F[v,v], T2[hc,hc,pa,pv], optimize='optimal')\\n\\tH2[c,c,v,c] += +0.50000000 * np.einsum('iu,jkva,vu->jkia', F[c,a], T2[hc,hc,pa,pv], eta1, optimize='optimal')\\n\\tH2[c,c,v,c] += -0.50000000 * np.einsum('iu,jkva,vu->kjia', F[c,a], T2[hc,hc,pa,pv], eta1, optimize='optimal')\\n\\tH2[c,c,v,c] += +0.50000000 * np.einsum('iu,jkva,vu->jkia', F[c,a], T2[hc,hc,pa,pv], gamma1, optimize='optimal')\\n\\tH2[c,c,v,c] += -0.50000000 * np.einsum('iu,jkva,vu->kjia', F[c,a], T2[hc,hc,pa,pv], gamma1, optimize='optimal')\\n\\tH2[c,c,v,c] += -0.50000000 * np.einsum('ia,jkba->jkib', F[c,v], T2[hc,hc,pv,pv], optimize='optimal')\\n\\tH2[c,c,v,c] += +0.50000000 * np.einsum('ia,jkba->kjib', F[c,v], T2[hc,hc,pv,pv], optimize='optimal')\\n\\tH2[c,c,v,v] += +0.50000000 * np.einsum('ij,kiab->jkab', F[c,c], T2[hc,hc,pv,pv], optimize='optimal')\\n\\tH2[c,c,v,v] += -0.50000000 * np.einsum('ij,kiab->kjab', F[c,c], T2[hc,hc,pv,pv], optimize='optimal')\\n\\tH2[c,c,v,v] += -0.50000000 * np.einsum('ij,kiab->jkba', F[c,c], T2[hc,hc,pv,pv], optimize='optimal')\\n\\tH2[c,c,v,v] += +0.50000000 * np.einsum('ij,kiab->kjba', F[c,c], T2[hc,hc,pv,pv], optimize='optimal')\\n\\tH2[c,c,v,v] += +0.50000000 * np.einsum('ui,jvab,uv->ijab', F[a,c], T2[hc,ha,pv,pv], eta1, optimize='optimal')\\n\\tH2[c,c,v,v] += -0.50000000 * np.einsum('ui,jvab,uv->jiab', F[a,c], T2[hc,ha,pv,pv], eta1, optimize='optimal')\\n\\tH2[c,c,v,v] += -0.50000000 * np.einsum('ui,jvab,uv->ijba', F[a,c], T2[hc,ha,pv,pv], eta1, optimize='optimal')\\n\\tH2[c,c,v,v] += +0.50000000 * np.einsum('ui,jvab,uv->jiba', F[a,c], T2[hc,ha,pv,pv], eta1, optimize='optimal')\\n\\tH2[c,c,v,v] += +0.50000000 * np.einsum('ui,jvab,uv->ijab', F[a,c], T2[hc,ha,pv,pv], gamma1, optimize='optimal')\\n\\tH2[c,c,v,v] += -0.50000000 * np.einsum('ui,jvab,uv->jiab', F[a,c], T2[hc,ha,pv,pv], gamma1, optimize='optimal')\\n\\tH2[c,c,v,v] += -0.50000000 * np.einsum('ui,jvab,uv->ijba', F[a,c], T2[hc,ha,pv,pv], gamma1, optimize='optimal')\\n\\tH2[c,c,v,v] += +0.50000000 * np.einsum('ui,jvab,uv->jiba', F[a,c], T2[hc,ha,pv,pv], gamma1, optimize='optimal')\\n\\tH2[c,c,v,v] += +0.50000000 * np.einsum('au,ijvb,vu->ijab', F[v,a], T2[hc,hc,pa,pv], eta1, optimize='optimal')\\n\\tH2[c,c,v,v] += -0.50000000 * np.einsum('au,ijvb,vu->jiab', F[v,a], T2[hc,hc,pa,pv], eta1, optimize='optimal')\\n\\tH2[c,c,v,v] += -0.50000000 * np.einsum('au,ijvb,vu->ijba', F[v,a], T2[hc,hc,pa,pv], eta1, optimize='optimal')\\n\\tH2[c,c,v,v] += +0.50000000 * np.einsum('au,ijvb,vu->jiba', F[v,a], T2[hc,hc,pa,pv], eta1, optimize='optimal')\\n\\tH2[c,c,v,v] += +0.50000000 * np.einsum('au,ijvb,vu->ijab', F[v,a], T2[hc,hc,pa,pv], gamma1, optimize='optimal')\\n\\tH2[c,c,v,v] += -0.50000000 * np.einsum('au,ijvb,vu->jiab', F[v,a], T2[hc,hc,pa,pv], gamma1, optimize='optimal')\\n\\tH2[c,c,v,v] += -0.50000000 * np.einsum('au,ijvb,vu->ijba', F[v,a], T2[hc,hc,pa,pv], gamma1, optimize='optimal')\\n\\tH2[c,c,v,v] += +0.50000000 * np.einsum('au,ijvb,vu->jiba', F[v,a], T2[hc,hc,pa,pv], gamma1, optimize='optimal')\\n\\tH2[c,c,v,v] += -0.50000000 * np.einsum('ab,ijcb->ijac', F[v,v], T2[hc,hc,pv,pv], optimize='optimal')\\n\\tH2[c,c,v,v] += +0.50000000 * np.einsum('ab,ijcb->jiac', F[v,v], T2[hc,hc,pv,pv], optimize='optimal')\\n\\tH2[c,c,v,v] += +0.50000000 * np.einsum('ab,ijcb->ijca', F[v,v], T2[hc,hc,pv,pv], optimize='optimal')\\n\\tH2[c,c,v,v] += -0.50000000 * np.einsum('ab,ijcb->jica', F[v,v], T2[hc,hc,pv,pv], optimize='optimal')\\n\\tH2[c,v,a,a] += -0.50000000 * np.einsum('ia,jiuv->jauv', F[c,v], T2[hc,hc,pa,pa], optimize='optimal')\\n\\tH2[c,v,a,a] += +0.50000000 * np.einsum('ia,jiuv->javu', F[c,v], T2[hc,hc,pa,pa], optimize='optimal')\\n\\tH2[c,v,a,a] += -0.50000000 * np.einsum('ua,ivwx,uv->iawx', F[a,v], T2[hc,ha,pa,pa], eta1, optimize='optimal')\\n\\tH2[c,v,a,a] += +0.50000000 * np.einsum('ua,ivwx,uv->iaxw', F[a,v], T2[hc,ha,pa,pa], eta1, optimize='optimal')\\n\\tH2[c,v,a,a] += -0.50000000 * np.einsum('ua,ivwx,uv->iawx', F[a,v], T2[hc,ha,pa,pa], gamma1, optimize='optimal')\\n\\tH2[c,v,a,a] += +0.50000000 * np.einsum('ua,ivwx,uv->iaxw', F[a,v], T2[hc,ha,pa,pa], gamma1, optimize='optimal')\\n\\tH2[c,v,v,a] += -1.00000000 * np.einsum('ia,jiub->jaub', F[c,v], T2[hc,hc,pa,pv], optimize='optimal')\\n\\tH2[c,v,v,a] += -1.00000000 * np.einsum('ua,ivwb,uv->iawb', F[a,v], T2[hc,ha,pa,pv], eta1, optimize='optimal')\\n\\tH2[c,v,v,a] += -1.00000000 * np.einsum('ua,ivwb,uv->iawb', F[a,v], T2[hc,ha,pa,pv], gamma1, optimize='optimal')\\n\\tH2[c,v,v,v] += -0.50000000 * np.einsum('ia,jibc->jabc', F[c,v], T2[hc,hc,pv,pv], optimize='optimal')\\n\\tH2[c,v,v,v] += +0.50000000 * np.einsum('ia,jibc->jacb', F[c,v], T2[hc,hc,pv,pv], optimize='optimal')\\n\\tH2[c,v,v,v] += -0.50000000 * np.einsum('ua,ivbc,uv->iabc', F[a,v], T2[hc,ha,pv,pv], eta1, optimize='optimal')\\n\\tH2[c,v,v,v] += +0.50000000 * np.einsum('ua,ivbc,uv->iacb', F[a,v], T2[hc,ha,pv,pv], eta1, optimize='optimal')\\n\\tH2[c,v,v,v] += -0.50000000 * np.einsum('ua,ivbc,uv->iabc', F[a,v], T2[hc,ha,pv,pv], gamma1, optimize='optimal')\\n\\tH2[c,v,v,v] += +0.50000000 * np.einsum('ua,ivbc,uv->iacb', F[a,v], T2[hc,ha,pv,pv], gamma1, optimize='optimal')\\n\", 208)\n"
     ]
    }
   ],
   "source": [
    "print(make_nbody_elements(F, T2op, 2))"
   ]
  },
  {
   "cell_type": "code",
   "execution_count": null,
   "metadata": {},
   "outputs": [],
   "source": []
  }
 ],
 "metadata": {
  "kernelspec": {
   "display_name": "forte",
   "language": "python",
   "name": "python3"
  },
  "language_info": {
   "codemirror_mode": {
    "name": "ipython",
    "version": 3
   },
   "file_extension": ".py",
   "mimetype": "text/x-python",
   "name": "python",
   "nbconvert_exporter": "python",
   "pygments_lexer": "ipython3",
   "version": "3.8.8"
  },
  "orig_nbformat": 4
 },
 "nbformat": 4,
 "nbformat_minor": 2
}
