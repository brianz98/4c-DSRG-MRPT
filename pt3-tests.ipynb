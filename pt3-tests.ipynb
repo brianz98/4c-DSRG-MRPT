{
 "cells": [
  {
   "cell_type": "code",
   "execution_count": 1,
   "metadata": {},
   "outputs": [],
   "source": [
    "from relforte import *"
   ]
  },
  {
   "cell_type": "code",
   "execution_count": 45,
   "metadata": {},
   "outputs": [
    {
     "name": "stdout",
     "output_type": "stream",
     "text": [
      "===============================================\n",
      "              PySCF RHF interface              \n",
      "===============================================\n",
      "Non-relativistic RHF Energy:     -99.8728525 Eh\n",
      "PySCF RHF time:                    0.3967388 s\n",
      "-----------------------------------------------\n",
      "Building integrals...\n",
      "Integral build time:               0.1514037 s\n",
      "-----------------------------------------------\n",
      "RHF time:                          0.5482059 s\n",
      "===============================================\n",
      "\n",
      "===============================================\n",
      "             Non-relativistic MP2              \n",
      "===============================================\n",
      "MP2 Ecorr:                        -0.2281882 Eh\n",
      "MP2 Energy:                     -100.1010406 Eh\n",
      "Error to PySCF:                    0.0000000 Eh\n",
      "Time taken:                        0.0693831 s\n",
      "===============================================\n",
      "\n",
      "===============================================\n",
      "          Non-relativistic CASCI(6,8)          \n",
      "===============================================\n",
      "Will now allocate 0.013 MB memory for the CASCI Hamiltonian!\n",
      "Time taken for 1-RDM build:        0.0066271 s\n",
      "Time taken for 2-RDM build:        0.0260065 s\n",
      "Time taken for 3-RDM build:        0.2050533 s\n",
      "E_frzc:                          -88.7919897 Eh\n",
      "E_cas:                           -14.2934663 Eh\n",
      "E_nuc:                             3.1750633 Eh\n",
      "E_casci:                         -99.9103927 Eh\n",
      "E0 (from RDM):                   -99.9103927 Eh\n",
      "Ecorr:                            -0.0375403 Eh\n",
      "Error to PySCF:                    0.0000000 Eh\n",
      "\n",
      "Timing summary\n",
      "... Hamil build:                    0.0208762 s\n",
      "... Hamil diag:                     0.0010226 s\n",
      "... RDM build:                      1.0552347 s\n",
      "Total time taken:                   1.0850267 s\n",
      "===============================================\n",
      "\n",
      "===============================================\n",
      "          Non-relativistic DSRG-MRPT2          \n",
      "===============================================\n",
      "Unrelaxed DSRG-MRPT2 energy:              -100.1093449 Eh\n",
      "Unrelaxed DSRG-MRPT2 E_corr:                -0.1989521 Eh\n",
      "Time taken:                        0.7541296 s\n",
      "===============================================\n"
     ]
    }
   ],
   "source": [
    "mol = pyscf.gto.M(\n",
    "    verbose = 2,\n",
    "    atom = '''\n",
    "H 0 0 0\n",
    "F 0 1.5 0\n",
    "''',\n",
    "    basis = 'cc-pvdz', spin=0, charge=0, symmetry=False\n",
    ")\n",
    "hf = RelForte(mol, verbose=True, density_fitting=False, decontract=False)\n",
    "hf.run_rhf(transform=True, debug=False, frozen=(0,0), dump_mo_coeff=False)\n",
    "hf.run_mp2(relativistic=False)\n",
    "hf.run_casci(cas=(6,8), do_fci=False, rdm_level=3, relativistic=False, semi_canonicalize=True)\n",
    "hf.run_dsrg_mrpt2(s=2.0, relativistic=False, relax=None)"
   ]
  },
  {
   "cell_type": "code",
   "execution_count": 3,
   "metadata": {},
   "outputs": [],
   "source": [
    "def antisymmetrize_and_hermitize(T):\n",
    "    # antisymmetrize the residual\n",
    "    T += np.einsum(\"ijab->abij\",T.conj()) # This is the Hermitized version (i.e., [H,A]), which should then be antisymmetrized\n",
    "    temp = T.copy()\n",
    "    T -= np.einsum(\"ijab->jiab\", temp)\n",
    "    T += np.einsum(\"ijab->jiba\", temp)\n",
    "    T -= np.einsum(\"ijab->ijba\", temp)\n",
    "    return T\n",
    "\n",
    "def form_amplitudes(H1, H2, d1, d2, denom_act, gamma1, mf):\n",
    "    T2 = H2[mf.hole,mf.hole,mf.part,mf.part].copy() * d2\n",
    "    T2[mf.ha,mf.ha,mf.pa,mf.pa] = 0\n",
    "\n",
    "    T1 = H1[mf.hole,mf.part].copy()\n",
    "    T1 += np.einsum('xu,iuax,xu->ia', denom_act, T2[:,mf.ha,:,mf.pa],gamma1)\n",
    "    T1 *= d1\n",
    "    T1[mf.ha,mf.pa] = 0\n",
    "\n",
    "    return T1, T2\n",
    "\n",
    "def regularized_denominator(x, s):\n",
    "    z = np.sqrt(s) * x\n",
    "    if abs(z) <= 1e-8:\n",
    "        return np.sqrt(s)*(z - z**3/2 + z**5/6)\n",
    "    return (1. - np.exp(-s * x**2)) / x\n",
    "\n",
    "fixed_args = (hf.cumulants['gamma1'], hf.cumulants['eta1'], hf.cumulants['lambda2'], hf.cumulants['lambda3'], hf)"
   ]
  },
  {
   "cell_type": "code",
   "execution_count": 4,
   "metadata": {},
   "outputs": [],
   "source": [
    "F0 = np.diag(np.diag(hf.fock))\n",
    "d2_reg = np.zeros((hf.nhole,hf.nhole,hf.npart,hf.npart),dtype='complex128')\n",
    "d1_reg = np.zeros((hf.nhole,hf.npart),dtype='complex128')\n",
    "\n",
    "d2 = np.zeros((hf.nhole,hf.nhole,hf.npart,hf.npart),dtype='complex128')\n",
    "d1 = np.zeros((hf.nhole,hf.npart),dtype='complex128')\n",
    "\n",
    "fdiag = np.diag(hf.fock)\n",
    "for i in range(hf.nhole):\n",
    "    for k in range(hf.npart):\n",
    "        d1[i,k] = fdiag[i]-fdiag[k+hf.ncore]\n",
    "        d1_reg[i,k] = regularized_denominator(fdiag[i]-fdiag[k+hf.ncore], 2.0)\n",
    "        for j in range(hf.nhole):\n",
    "            for l in range(hf.npart):\n",
    "                d2[i,j,k,l] = fdiag[i]+fdiag[j]-fdiag[k+hf.ncore]-fdiag[l+hf.ncore]\n",
    "                d2_reg[i,j,k,l] = regularized_denominator(fdiag[i]+fdiag[j]-fdiag[k+hf.ncore]-fdiag[l+hf.ncore], 2.0)"
   ]
  },
  {
   "cell_type": "code",
   "execution_count": 5,
   "metadata": {},
   "outputs": [
    {
     "name": "stdout",
     "output_type": "stream",
     "text": [
      "Time for Hbar:  0.549401044845581\n",
      "DSRG-MRPT3 energy pt 1: 0.003321337999683\n"
     ]
    }
   ],
   "source": [
    "t0 = time.time()\n",
    "H0A1_1b = np.zeros((hf.nlrg,hf.nlrg), dtype='complex128')\n",
    "H0A1_2b = np.zeros((hf.nlrg,hf.nlrg,hf.nlrg,hf.nlrg), dtype='complex128')\n",
    "H1_T2_C2(None, H0A1_2b, F0, None, None, hf.T2_1, *fixed_args)\n",
    "H1_T2_C1(H0A1_1b, None, F0, None, None, hf.T2_1, *fixed_args)\n",
    "H1_T1_C1(H0A1_1b, None, F0, None, hf.T1_1, None, *fixed_args)\n",
    "H0A1_2b = antisymmetrize_and_hermitize(H0A1_2b)\n",
    "H0A1_1b = H0A1_1b + H0A1_1b.T.conj()\n",
    "\n",
    "H0A1A1_1b = np.zeros((hf.nlrg,hf.nlrg), dtype='complex128')\n",
    "H0A1A1_2b = np.zeros((hf.nlrg,hf.nlrg,hf.nlrg,hf.nlrg), dtype='complex128')\n",
    "\n",
    "H1_T1_C1(H0A1A1_1b, None,      H0A1_1b, None,    hf.T1_1, None,    *fixed_args)\n",
    "H1_T2_C1(H0A1A1_1b, None,      H0A1_1b, None,    None,    hf.T2_1, *fixed_args)\n",
    "H2_T1_C1(H0A1A1_1b, None,      None,    H0A1_2b, hf.T1_1, None,    *fixed_args)\n",
    "H2_T2_C1(H0A1A1_1b, None,      None,    H0A1_2b, None,    hf.T2_1, *fixed_args)\n",
    "H1_T2_C2(None,      H0A1A1_2b, H0A1_1b, None,    None,    hf.T2_1, *fixed_args)\n",
    "H2_T1_C2(None,      H0A1A1_2b, None,    H0A1_2b, hf.T1_1, None,    *fixed_args)\n",
    "H2_T2_C2(None,      H0A1A1_2b, None,    H0A1_2b, None,    hf.T2_1, *fixed_args)\n",
    "H0A1A1_2b = antisymmetrize_and_hermitize(H0A1A1_2b)\n",
    "H0A1A1_1b = H0A1A1_1b + H0A1A1_1b.T.conj()\n",
    "H0A1A1_1b = -H0A1A1_1b\n",
    "H0A1A1_2b = -H0A1A1_2b\n",
    "\n",
    "t1 = time.time()\n",
    "print(\"Time for Hbar: \", t1-t0)\n",
    "\n",
    "E = (1./6) * H_T_C0(None, None, H0A1A1_1b, H0A1A1_2b, hf.T1_1, hf.T2_1, *fixed_args)\n",
    "print(f'DSRG-MRPT3 energy pt 1: {E.real:.15f}')\n",
    "assert np.isclose(E.real, 0.003321337999682)\n",
    "assert np.allclose(H0A1_2b[hf.hole, hf.hole, hf.part, hf.part], -d2*hf.T2_1)\n",
    "\n",
    "Hbar_1b = np.zeros((hf.nlrg,hf.nlrg), dtype='complex128')\n",
    "Hbar_2b = np.zeros((hf.nlrg,hf.nlrg,hf.nlrg,hf.nlrg), dtype='complex128')\n",
    "H_T_C1_aa = (Hbar_1b, Hbar_2b, H0A1A1_1b, H0A1A1_2b, hf.T1_1, hf.T2_1, *fixed_args)\n",
    "H_T_C2_aaaa = (Hbar_1b, Hbar_2b, H0A1A1_1b, H0A1A1_2b, hf.T1_1, hf.T2_1, *fixed_args)"
   ]
  },
  {
   "cell_type": "code",
   "execution_count": 19,
   "metadata": {},
   "outputs": [],
   "source": [
    "F1 = hf.fock.copy()\n",
    "F1[hf.core, hf.core] = 0j\n",
    "F1[hf.active, hf.active] = 0j\n",
    "F1[hf.virt, hf.virt] = 0j\n",
    "\n",
    "t2_rec = hf.rhf_eri_full_asym[hf.hole,hf.hole,hf.part,hf.part]*hf.d2\n",
    "t2_rec[hf.ha,hf.ha,hf.pa,hf.pa] = 0\n",
    "assert np.allclose(hf.T2_1, t2_rec)"
   ]
  },
  {
   "cell_type": "code",
   "execution_count": 14,
   "metadata": {},
   "outputs": [],
   "source": [
    "Htilde1_1b = H0A1_1b + 2*F1\n",
    "Htilde1_2b = H0A1_2b + 2*hf.rhf_eri_full_asym"
   ]
  },
  {
   "cell_type": "code",
   "execution_count": 15,
   "metadata": {},
   "outputs": [],
   "source": [
    "Htilde1A1_1b = np.zeros((hf.nlrg,hf.nlrg), dtype='complex128')\n",
    "Htilde1A1_2b = np.zeros((hf.nlrg,hf.nlrg,hf.nlrg,hf.nlrg), dtype='complex128')\n",
    "\n",
    "H1_T1_C1(Htilde1A1_1b, None, F1, None,          hf.T1_1, None,    *fixed_args)\n",
    "H1_T2_C1(Htilde1A1_1b, None, F1, None,          None,    hf.T2_1, *fixed_args)\n",
    "H2_T1_C1(Htilde1A1_1b, None, None, hf.rhf_eri_full_asym, hf.T1_1, None,    *fixed_args)\n",
    "H2_T2_C1(Htilde1A1_1b, None, None, hf.rhf_eri_full_asym, None,    hf.T2_1, *fixed_args)\n",
    "H1_T2_C2(None, Htilde1A1_2b, F1, None,          None,    hf.T2_1, *fixed_args)\n",
    "H2_T1_C2(None, Htilde1A1_2b, None, hf.rhf_eri_full_asym, hf.T1_1, None,    *fixed_args)\n",
    "H2_T2_C2(None, Htilde1A1_2b, None, hf.rhf_eri_full_asym, None,    hf.T2_1, *fixed_args)\n",
    "Htilde1A1_2b_new = antisymmetrize_and_hermitize(Htilde1A1_2b) - 0.5*H0A1A1_2b\n",
    "Htilde1A1_1b_new = (Htilde1A1_1b + Htilde1A1_1b.T.conj()) - 0.5*H0A1A1_1b"
   ]
  },
  {
   "cell_type": "code",
   "execution_count": 16,
   "metadata": {},
   "outputs": [],
   "source": [
    "T1_2, T2_2 = form_amplitudes(Htilde1A1_1b_new, Htilde1A1_2b_new, hf.d1, hf.d2, hf.denom_act, hf.cumulants['gamma1'], hf)"
   ]
  },
  {
   "cell_type": "code",
   "execution_count": 18,
   "metadata": {},
   "outputs": [
    {
     "name": "stdout",
     "output_type": "stream",
     "text": [
      "DSRG-MRPT3 energy pt 2: -0.004111830390821\n"
     ]
    }
   ],
   "source": [
    "E = H_T_C0(None, None, Htilde1_1b, Htilde1_2b, T1_2, T2_2, *fixed_args)\n",
    "print(f'DSRG-MRPT3 energy pt 2: {E.real:.15f}')\n",
    "assert np.isclose(E, -0.004111830390822065)"
   ]
  },
  {
   "cell_type": "code",
   "execution_count": 11,
   "metadata": {},
   "outputs": [],
   "source": [
    "H0A2_1b = np.zeros((hf.nlrg,hf.nlrg), dtype='complex128')\n",
    "H0A2_2b = np.zeros((hf.nlrg,hf.nlrg,hf.nlrg,hf.nlrg), dtype='complex128')\n",
    "H1_T2_C2(None, H0A2_2b, F0, None, None, T2_2, *fixed_args)\n",
    "H1_T2_C1(H0A2_1b, None, F0, None, None, T2_2, *fixed_args)\n",
    "H1_T1_C1(H0A2_1b, None, F0, None, T1_2, None, *fixed_args)\n",
    "H0A2_2b = antisymmetrize_and_hermitize(H0A2_2b)\n",
    "H0A2_1b = H0A2_1b + H0A2_1b.T.conj()\n",
    "\n",
    "Hbar2_1b = H0A2_1b + Htilde1A1_1b_new\n",
    "Hbar2_2b = H0A2_2b + Htilde1A1_2b_new"
   ]
  },
  {
   "cell_type": "code",
   "execution_count": 12,
   "metadata": {},
   "outputs": [
    {
     "name": "stdout",
     "output_type": "stream",
     "text": [
      "DSRG-MRPT3 energy pt 3: 0.000009539381123\n"
     ]
    }
   ],
   "source": [
    "E = H_T_C0(None, None, Hbar2_1b, Hbar2_2b, hf.T1_1, hf.T2_1, *fixed_args)\n",
    "print(f'DSRG-MRPT3 energy pt 3: {E.real:.15f}')\n",
    "assert np.isclose(E.real, 0.000009539381123)"
   ]
  }
 ],
 "metadata": {
  "kernelspec": {
   "display_name": "base",
   "language": "python",
   "name": "python3"
  },
  "language_info": {
   "codemirror_mode": {
    "name": "ipython",
    "version": 3
   },
   "file_extension": ".py",
   "mimetype": "text/x-python",
   "name": "python",
   "nbconvert_exporter": "python",
   "pygments_lexer": "ipython3",
   "version": "3.8.8"
  },
  "orig_nbformat": 4
 },
 "nbformat": 4,
 "nbformat_minor": 2
}
