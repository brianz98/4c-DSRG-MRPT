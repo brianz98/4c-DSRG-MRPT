{
 "cells": [
  {
   "cell_type": "code",
   "execution_count": 1,
   "metadata": {},
   "outputs": [],
   "source": [
    "from relforte import *\n",
    "\n",
    "def antisymmetrize_and_hermitize(T):\n",
    "    # antisymmetrize the residual\n",
    "    T += np.einsum(\"ijab->abij\",T.conj()) # This is the Hermitized version (i.e., [H,A]), which should then be antisymmetrized\n",
    "    temp = T.copy()\n",
    "    T -= np.einsum(\"ijab->jiab\", temp)\n",
    "    T += np.einsum(\"ijab->jiba\", temp)\n",
    "    T -= np.einsum(\"ijab->ijba\", temp)\n",
    "    return T\n",
    "\n",
    "def form_amplitudes(H1, H2, d1, d2, denom_act, gamma1, mf):\n",
    "    T2 = H2[mf.hole,mf.hole,mf.part,mf.part].copy() * d2\n",
    "    T2[mf.ha,mf.ha,mf.pa,mf.pa] = 0\n",
    "\n",
    "    T1 = H1[mf.hole,mf.part].copy()\n",
    "    T1 += np.einsum('xu,iuax,xu->ia', denom_act, T2[:,mf.ha,:,mf.pa],gamma1)\n",
    "    T1 *= d1\n",
    "    T1[mf.ha,mf.pa] = 0\n",
    "\n",
    "    return T1, T2\n",
    "\n",
    "def regularized_denominator(x, s):\n",
    "    z = np.sqrt(s) * x\n",
    "    if abs(z) <= 1e-8:\n",
    "        return np.sqrt(s)*(z - z**3/2 + z**5/6)\n",
    "    return (1. - np.exp(-s * x**2)) / x"
   ]
  },
  {
   "cell_type": "code",
   "execution_count": 2,
   "metadata": {},
   "outputs": [
    {
     "name": "stdout",
     "output_type": "stream",
     "text": [
      "===============================================\n",
      "              PySCF DHF interface              \n",
      "===============================================\n",
      "Relativistic DHF Energy:         -99.9638776 Eh\n",
      "PySCF RHF time:                    0.8632138 s\n",
      "-----------------------------------------------\n",
      "Will now allocate 66.724 MB disk space for the AO ERI tensor!\n",
      "\n",
      "Timing report\n",
      "....integral transformation:       3.8351703 s\n",
      "Total time taken:                  3.8357267 s\n",
      "===============================================\n",
      "\n",
      "===============================================\n",
      "            Relativistic CASCI(6,8)            \n",
      "===============================================\n",
      "Will now allocate 0.013 MB memory for the CASCI Hamiltonian!\n",
      "Time taken for 1-RDM build:        0.0062275 s\n",
      "Time taken for 2-RDM build:        0.0217657 s\n",
      "Time taken for 3-RDM build:        0.1326966 s\n",
      "E_frzc:                          -88.8825774 Eh\n",
      "E_cas:                           -14.2940434 Eh\n",
      "E_nuc:                             3.1750633 Eh\n",
      "E_casci:                        -100.0015576 Eh\n",
      "E0 (from RDM):                  -100.0015576 Eh\n",
      "Ecorr:                            -0.0376800 Eh\n",
      "\n",
      "Timing summary\n",
      "... Hamil build:                    0.0129647 s\n",
      "... Hamil diag:                     0.0004630 s\n",
      "... RDM build:                      1.2137282 s\n",
      "Total time taken:                   1.2343745 s\n",
      "===============================================\n",
      "\n",
      "===============================================\n",
      "            Relativistic DSRG-MRPT2            \n",
      "===============================================\n",
      "Unrelaxed DSRG-MRPT2 energy:              -100.2004442 Eh\n",
      "Unrelaxed DSRG-MRPT2 E_corr:                -0.1988866 Eh\n",
      "Time taken:                        0.8668365 s\n",
      "===============================================\n"
     ]
    }
   ],
   "source": [
    "mol = pyscf.gto.M(\n",
    "    verbose = 2,\n",
    "    atom = '''\n",
    "H 0 0 0\n",
    "F 0 1.5 0\n",
    "''',\n",
    "    basis = 'cc-pvdz', spin=0, charge=0, symmetry=False\n",
    ")\n",
    "hf = RelForte(mol, verbose=True, density_fitting=False, decontract=False)\n",
    "hf.run_dhf(transform=True, debug=False, frozen=(0,0), dump_mo_coeff=False)\n",
    "hf.run_casci(cas=(6,8), do_fci=False, rdm_level=3, relativistic=True, semi_canonicalize=True)\n",
    "hf.run_dsrg_mrpt2(s=2.0, relativistic=True, relax=None)\n",
    "\n",
    "fixed_args = (hf.cumulants['gamma1'], hf.cumulants['eta1'], hf.cumulants['lambda2'], hf.cumulants['lambda3'], hf)\n",
    "\n",
    "F0 = np.diag(np.diag(hf.fock))\n",
    "d2_reg = np.zeros((hf.nhole,hf.nhole,hf.npart,hf.npart),dtype='complex128')\n",
    "d1_reg = np.zeros((hf.nhole,hf.npart),dtype='complex128')\n",
    "\n",
    "d2 = np.zeros((hf.nhole,hf.nhole,hf.npart,hf.npart),dtype='complex128')\n",
    "d1 = np.zeros((hf.nhole,hf.npart),dtype='complex128')\n",
    "\n",
    "fdiag = np.diag(hf.fock)\n",
    "for i in range(hf.nhole):\n",
    "    for k in range(hf.npart):\n",
    "        d1[i,k] = fdiag[i]-fdiag[k+hf.ncore]\n",
    "        d1_reg[i,k] = regularized_denominator(fdiag[i]-fdiag[k+hf.ncore], 2.0)\n",
    "        for j in range(hf.nhole):\n",
    "            for l in range(hf.npart):\n",
    "                d2[i,j,k,l] = fdiag[i]+fdiag[j]-fdiag[k+hf.ncore]-fdiag[l+hf.ncore]\n",
    "                d2_reg[i,j,k,l] = regularized_denominator(fdiag[i]+fdiag[j]-fdiag[k+hf.ncore]-fdiag[l+hf.ncore], 2.0)"
   ]
  },
  {
   "cell_type": "code",
   "execution_count": 3,
   "metadata": {},
   "outputs": [
    {
     "name": "stdout",
     "output_type": "stream",
     "text": [
      "Time for Hbar:  0.527214765548706\n",
      "DSRG-MRPT3 energy pt 1: 0.003323575825788-0.000000000000000j\n"
     ]
    }
   ],
   "source": [
    "t0 = time.time()\n",
    "H0A1_1b = np.zeros((hf.nlrg,hf.nlrg), dtype='complex128')\n",
    "H0A1_2b = np.zeros((hf.nlrg,hf.nlrg,hf.nlrg,hf.nlrg), dtype='complex128')\n",
    "H1_T2_C2(None, H0A1_2b, F0, None, None, hf.T2_1, *fixed_args)\n",
    "H1_T2_C1(H0A1_1b, None, F0, None, None, hf.T2_1, *fixed_args)\n",
    "H1_T1_C1(H0A1_1b, None, F0, None, hf.T1_1, None, *fixed_args)\n",
    "H0A1_2b = antisymmetrize_and_hermitize(H0A1_2b)\n",
    "H0A1_1b = H0A1_1b + H0A1_1b.T.conj()\n",
    "\n",
    "H0A1A1_1b = np.zeros((hf.nlrg,hf.nlrg), dtype='complex128')\n",
    "H0A1A1_2b = np.zeros((hf.nlrg,hf.nlrg,hf.nlrg,hf.nlrg), dtype='complex128')\n",
    "\n",
    "H1_T1_C1(H0A1A1_1b, None,      H0A1_1b, None,    hf.T1_1, None,    *fixed_args)\n",
    "H1_T2_C1(H0A1A1_1b, None,      H0A1_1b, None,    None,    hf.T2_1, *fixed_args)\n",
    "H2_T1_C1(H0A1A1_1b, None,      None,    H0A1_2b, hf.T1_1, None,    *fixed_args)\n",
    "H2_T2_C1(H0A1A1_1b, None,      None,    H0A1_2b, None,    hf.T2_1, *fixed_args)\n",
    "H1_T2_C2(None,      H0A1A1_2b, H0A1_1b, None,    None,    hf.T2_1, *fixed_args)\n",
    "H2_T1_C2(None,      H0A1A1_2b, None,    H0A1_2b, hf.T1_1, None,    *fixed_args)\n",
    "H2_T2_C2(None,      H0A1A1_2b, None,    H0A1_2b, None,    hf.T2_1, *fixed_args)\n",
    "H0A1A1_2b = antisymmetrize_and_hermitize(H0A1A1_2b)\n",
    "H0A1A1_1b = H0A1A1_1b + H0A1A1_1b.T.conj()\n",
    "H0A1A1_1b = -H0A1A1_1b\n",
    "H0A1A1_2b = -H0A1A1_2b\n",
    "\n",
    "t1 = time.time()\n",
    "print(\"Time for Hbar: \", t1-t0)\n",
    "\n",
    "E = (1./6) * H_T_C0(None, None, H0A1A1_1b, H0A1A1_2b, hf.T1_1, hf.T2_1, *fixed_args)\n",
    "print(f'DSRG-MRPT3 energy pt 1: {E:.15f}')\n",
    "assert np.allclose(H0A1_2b[hf.hole, hf.hole, hf.part, hf.part], -d2*hf.T2_1)"
   ]
  },
  {
   "cell_type": "code",
   "execution_count": 5,
   "metadata": {},
   "outputs": [],
   "source": [
    "F1 = hf.fock.copy().conj()\n",
    "F1[hf.core, hf.core] = 0j\n",
    "F1[hf.active, hf.active] = 0j\n",
    "F1[hf.virt, hf.virt] = 0j\n",
    "\n",
    "t2_rec = hf.dhf_eri_full_asym[hf.hole,hf.hole,hf.part,hf.part]*hf.d2\n",
    "t2_rec[hf.ha,hf.ha,hf.pa,hf.pa] = 0\n",
    "assert np.allclose(hf.T2_1.conj(), t2_rec)"
   ]
  },
  {
   "cell_type": "code",
   "execution_count": 6,
   "metadata": {},
   "outputs": [],
   "source": [
    "Htilde1_1b = H0A1_1b + 2*F1\n",
    "Htilde1_2b = H0A1_2b + 2*hf.dhf_eri_full_asym.conj()\n",
    "\n",
    "Htilde1A1_1b = np.zeros((hf.nlrg,hf.nlrg), dtype='complex128')\n",
    "Htilde1A1_2b = np.zeros((hf.nlrg,hf.nlrg,hf.nlrg,hf.nlrg), dtype='complex128')\n",
    "\n",
    "H1_T1_C1(Htilde1A1_1b, None, Htilde1_1b, None,          hf.T1_1, None,    *fixed_args)\n",
    "H1_T2_C1(Htilde1A1_1b, None, Htilde1_1b, None,          None,    hf.T2_1, *fixed_args)\n",
    "H2_T1_C1(Htilde1A1_1b, None, None, Htilde1_2b, hf.T1_1, None,    *fixed_args)\n",
    "H2_T2_C1(Htilde1A1_1b, None, None, Htilde1_2b, None,    hf.T2_1, *fixed_args)\n",
    "H1_T2_C2(None, Htilde1A1_2b, Htilde1_1b, None,          None,    hf.T2_1, *fixed_args)\n",
    "H2_T1_C2(None, Htilde1A1_2b, None, Htilde1_2b, hf.T1_1, None,    *fixed_args)\n",
    "H2_T2_C2(None, Htilde1A1_2b, None, Htilde1_2b, None,    hf.T2_1, *fixed_args)\n",
    "Htilde1A1_2b = antisymmetrize_and_hermitize(Htilde1A1_2b)# - 0.5*H0A1A1_2b\n",
    "Htilde1A1_1b = (Htilde1A1_1b + Htilde1A1_1b.T.conj())# - 0.5*H0A1A1_1b"
   ]
  },
  {
   "cell_type": "code",
   "execution_count": 7,
   "metadata": {},
   "outputs": [
    {
     "name": "stdout",
     "output_type": "stream",
     "text": [
      "DSRG-MRPT3 energy pt 2: -0.004129141542555-0.000000000000000j\n"
     ]
    }
   ],
   "source": [
    "T1_2, T2_2 = form_amplitudes(Htilde1A1_1b, Htilde1A1_2b, hf.d1, hf.d2, hf.denom_act, hf.cumulants['gamma1'], hf)\n",
    "E = 0.5*H_T_C0(None, None, Htilde1_1b, Htilde1_2b, T1_2, T2_2, *fixed_args)\n",
    "print(f'DSRG-MRPT3 energy pt 2: {E:.15f}')"
   ]
  },
  {
   "cell_type": "code",
   "execution_count": 7,
   "metadata": {},
   "outputs": [
    {
     "name": "stdout",
     "output_type": "stream",
     "text": [
      "DSRG-MRPT3 energy pt 3: 0.000018082230480-0.000000000000000j\n"
     ]
    }
   ],
   "source": [
    "H0A2_1b = np.zeros((hf.nlrg,hf.nlrg), dtype='complex128')\n",
    "H0A2_2b = np.zeros((hf.nlrg,hf.nlrg,hf.nlrg,hf.nlrg), dtype='complex128')\n",
    "H1_T2_C2(None, H0A2_2b, F0, None, None, T2_2, *fixed_args)\n",
    "H1_T2_C1(H0A2_1b, None, F0, None, None, T2_2, *fixed_args)\n",
    "H1_T1_C1(H0A2_1b, None, F0, None, T1_2, None, *fixed_args)\n",
    "H0A2_2b = antisymmetrize_and_hermitize(H0A2_2b)\n",
    "H0A2_1b = H0A2_1b + H0A2_1b.T.conj()\n",
    "\n",
    "Hbar2_1b = H0A2_1b + Htilde1A1_1b_new\n",
    "Hbar2_2b = H0A2_2b + Htilde1A1_2b_new\n",
    "\n",
    "E = H_T_C0(None, None, Hbar2_1b, Hbar2_2b, hf.T1_1, hf.T2_1, *fixed_args)\n",
    "print(f'DSRG-MRPT3 energy pt 3: {E:.15f}')"
   ]
  },
  {
   "cell_type": "code",
   "execution_count": null,
   "metadata": {},
   "outputs": [],
   "source": []
  }
 ],
 "metadata": {
  "kernelspec": {
   "display_name": "base",
   "language": "python",
   "name": "python3"
  },
  "language_info": {
   "codemirror_mode": {
    "name": "ipython",
    "version": 3
   },
   "file_extension": ".py",
   "mimetype": "text/x-python",
   "name": "python",
   "nbconvert_exporter": "python",
   "pygments_lexer": "ipython3",
   "version": "3.8.8"
  },
  "orig_nbformat": 4
 },
 "nbformat": 4,
 "nbformat_minor": 2
}
